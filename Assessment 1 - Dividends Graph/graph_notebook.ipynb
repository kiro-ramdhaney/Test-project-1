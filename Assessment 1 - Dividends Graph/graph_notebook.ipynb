{
 "cells": [
  {
   "cell_type": "code",
   "execution_count": 2,
   "id": "d3ac9abc",
   "metadata": {},
   "outputs": [],
   "source": [
    "import pandas as pd\n",
    "import numpy as np\n",
    "import plotly.graph_objects as go\n",
    "from plotly.subplots import make_subplots\n",
    "from datetime import datetime, timedelta\n",
    "import warnings\n",
    "warnings.filterwarnings('ignore')"
   ]
  },
  {
   "cell_type": "code",
   "execution_count": 3,
   "id": "10699295",
   "metadata": {},
   "outputs": [],
   "source": [
    "def analyze_dividend_yield_complete(dividend_file, stock_file):\n",
    "    \n",
    "    # Load dividend data\n",
    "    dividends = pd.read_csv(dividend_file)\n",
    "    dividends = dividends.drop(columns=[dividends.columns[0]])  # Remove index column\n",
    "    dividends['date'] = pd.to_datetime(dividends['date'])\n",
    "    \n",
    "    # Load stock data\n",
    "    stocks = pd.read_csv(stock_file)\n",
    "    stocks = stocks.drop(columns=[stocks.columns[0]])  # Remove index column\n",
    "    stocks['date'] = pd.to_datetime(stocks['date'])\n",
    "    stocks = stocks.rename(columns={'close_adjusted': 'price'})\n",
    "    \n",
    "    # Get 10-year date range\n",
    "    end_date = max(stocks['date'].max(), dividends['date'].max())\n",
    "    start_date = end_date - timedelta(days=10*365)\n",
    "    \n",
    "    # Filter to 10-year period\n",
    "    dividends_10y = dividends[dividends['date'] >= start_date].copy()\n",
    "    stocks_10y = stocks[stocks['date'] >= start_date].copy()\n",
    "    \n",
    "    # Calculate current dividend yield for each symbol\n",
    "    latest_prices = stocks_10y.groupby('symbol')['price'].last().reset_index()\n",
    "    recent_dividends = dividends_10y[dividends_10y['date'] >= (end_date - timedelta(days=365))]\n",
    "    annual_dividends = recent_dividends.groupby('symbol')['dividend'].sum().reset_index()\n",
    "    \n",
    "    # Merge and calculate yield\n",
    "    current_yield = pd.merge(annual_dividends, latest_prices, on='symbol', how='inner')\n",
    "    current_yield['yield_pct'] = (current_yield['dividend'] / current_yield['price']) * 100\n",
    "    \n",
    "    # Get top 10 symbols\n",
    "    top_10_symbols = current_yield.nlargest(10, 'yield_pct')['symbol'].tolist()\n",
    "    \n",
    "    # Calculate rolling 12-month dividend yield\n",
    "    results = []\n",
    "    for symbol in top_10_symbols:\n",
    "        symbol_stocks = stocks_10y[stocks_10y['symbol'] == symbol].copy()\n",
    "        symbol_divs = dividends_10y[dividends_10y['symbol'] == symbol].copy()\n",
    "        \n",
    "        # Monthly resampling for efficiency\n",
    "        symbol_stocks['year_month'] = symbol_stocks['date'].dt.to_period('M')\n",
    "        monthly_prices = symbol_stocks.groupby('year_month')['price'].last().reset_index()\n",
    "        monthly_prices['date'] = monthly_prices['year_month'].dt.to_timestamp()\n",
    "        \n",
    "        for _, row in monthly_prices.iterrows():\n",
    "            current_date = row['date']\n",
    "            current_price = row['price']\n",
    "            \n",
    "            # Get 12-month trailing dividends\n",
    "            twelve_months_ago = current_date - timedelta(days=365)\n",
    "            trailing_divs = symbol_divs[\n",
    "                (symbol_divs['date'] >= twelve_months_ago) & \n",
    "                (symbol_divs['date'] <= current_date)\n",
    "            ]\n",
    "            \n",
    "            if len(trailing_divs) > 0:\n",
    "                total_dividends = trailing_divs['dividend'].sum()\n",
    "                yield_pct = (total_dividends / current_price) * 100\n",
    "                \n",
    "                results.append({\n",
    "                    'symbol': symbol,\n",
    "                    'date': current_date,\n",
    "                    'dividend_yield': yield_pct\n",
    "                })\n",
    "    \n",
    "    return pd.DataFrame(results), current_yield"
   ]
  },
  {
   "cell_type": "code",
   "execution_count": 4,
   "id": "768a4822",
   "metadata": {},
   "outputs": [],
   "source": [
    "def create_dividend_yield_plot(df_results, title_suffix=\"\"):\n",
    "    \"\"\"Create plotly visualization of dividend yield data.\"\"\"\n",
    "    \n",
    "    fig = go.Figure()\n",
    "    \n",
    "    colors = ['#1f77b4', '#ff7f0e', '#2ca02c', '#d62728', '#9467bd', \n",
    "              '#8c564b', '#e377c2', '#7f7f7f', '#bcbd22', '#17becf']\n",
    "    \n",
    "    symbols = df_results['symbol'].unique()\n",
    "    \n",
    "    for i, symbol in enumerate(symbols):\n",
    "        symbol_data = df_results[df_results['symbol'] == symbol]\n",
    "        \n",
    "        fig.add_trace(go.Scatter(\n",
    "            x=symbol_data['date'],\n",
    "            y=symbol_data['dividend_yield'],\n",
    "            mode='lines+markers',\n",
    "            name=symbol,\n",
    "            line=dict(color=colors[i % len(colors)], width=2),\n",
    "            marker=dict(size=4),\n",
    "            hovertemplate=f'<b>{symbol}</b><br>' +\n",
    "                        'Date: %{x}<br>' +\n",
    "                        'Dividend Yield: %{y:.2f}%<br>' +\n",
    "                        '<extra></extra>'\n",
    "        ))\n",
    "    \n",
    "    fig.update_layout(\n",
    "        title={\n",
    "            'text': f'Rolling 12-Month Dividend Yield Analysis{title_suffix}',\n",
    "            'x': 0.5,\n",
    "            'xanchor': 'center',\n",
    "            'font': {'size': 16}\n",
    "        },\n",
    "        xaxis_title='Date',\n",
    "        yaxis_title='Dividend Yield (%)',\n",
    "        hovermode='x unified',\n",
    "        legend=dict(orientation=\"v\", yanchor=\"top\", y=1, xanchor=\"left\", x=1.02),\n",
    "        width=1200,\n",
    "        height=600,\n",
    "        template='plotly_white'\n",
    "    )\n",
    "    \n",
    "    fig.update_xaxes(showgrid=True, gridwidth=1, gridcolor='lightgray')\n",
    "    fig.update_yaxes(showgrid=True, gridwidth=1, gridcolor='lightgray')\n",
    "    \n",
    "    return fig"
   ]
  },
  {
   "cell_type": "code",
   "execution_count": 5,
   "id": "ca666a71",
   "metadata": {},
   "outputs": [],
   "source": [
    "def get_top_dividend_yields(dividend_file, n=10):\n",
    "    \"\"\"\n",
    "    Get top N companies by recent dividend activity (when stock data unavailable).\n",
    "    \"\"\"\n",
    "    dividends = pd.read_csv(dividend_file)\n",
    "    dividends = dividends.drop(columns=[dividends.columns[0]])\n",
    "    dividends['date'] = pd.to_datetime(dividends['date'])\n",
    "    \n",
    "    # Get recent dividends (last 2 years)\n",
    "    recent_cutoff = dividends['date'].max() - timedelta(days=730)\n",
    "    recent_dividends = dividends[dividends['date'] >= recent_cutoff]\n",
    "    \n",
    "    # Calculate total dividends per symbol\n",
    "    total_dividends = recent_dividends.groupby('symbol')['dividend'].sum().reset_index()\n",
    "    top_symbols = total_dividends.nlargest(n, 'dividend')\n",
    "    \n",
    "    print(f\"Top {n} companies by total dividend payments (last 2 years):\")\n",
    "    for _, row in top_symbols.iterrows():\n",
    "        print(f\"{row['symbol']}: ${row['dividend']:.2f}\")\n",
    "    \n",
    "    return top_symbols['symbol'].tolist()"
   ]
  },
  {
   "cell_type": "code",
   "execution_count": 6,
   "id": "2ed41200",
   "metadata": {},
   "outputs": [],
   "source": [
    "def run_analysis(dividend_file='sp500_historical_dividends.csv', stock_file='sp500_historical_daily_close.csv'):\n",
    "    \n",
    "    print(\"=== S&P 500 Dividend Yield Analysis ===\\n\")\n",
    "    \n",
    "    # Run the complete analysis\n",
    "    df_results, current_yields = analyze_dividend_yield_complete(dividend_file, stock_file)\n",
    "    \n",
    "    if len(df_results) > 0:\n",
    "        print(f\"\\nGenerated {len(df_results)} data points for visualization\")\n",
    "        print(f\"Top 10 companies by current dividend yield:\")\n",
    "        print(current_yields.nlargest(10, 'yield_pct')[['symbol', 'yield_pct']])\n",
    "        \n",
    "        fig = create_dividend_yield_plot(df_results, \" - Top 10 S&P 500 Companies\")\n",
    "        \n",
    "        # Show summary statistics\n",
    "        print(\"\\nSummary Statistics:\")\n",
    "        for symbol in df_results['symbol'].unique():\n",
    "            symbol_data = df_results[df_results['symbol'] == symbol]\n",
    "            avg_yield = symbol_data['dividend_yield'].mean()\n",
    "            max_yield = symbol_data['dividend_yield'].max()\n",
    "            min_yield = symbol_data['dividend_yield'].min()\n",
    "            print(f\"{symbol}: Avg={avg_yield:.2f}%, Max={max_yield:.2f}%, Min={min_yield:.2f}%\")\n",
    "        \n",
    "        return fig, df_results\n",
    "    else:\n",
    "        print(\"No overlapping data found. Showing top dividend companies by total payments:\")\n",
    "        top_symbols = get_top_dividend_yields(dividend_file, 10)\n",
    "        return None, None\n"
   ]
  },
  {
   "cell_type": "code",
   "execution_count": 8,
   "id": "4d6a7bf6",
   "metadata": {},
   "outputs": [
    {
     "name": "stdout",
     "output_type": "stream",
     "text": [
      "=== S&P 500 Dividend Yield Analysis ===\n",
      "\n",
      "\n",
      "Generated 1178 data points for visualization\n",
      "Top 10 companies by current dividend yield:\n",
      "    symbol   yield_pct\n",
      "16     AIV  120.083682\n",
      "86     CTL    7.164402\n",
      "309      T    7.152682\n",
      "246    OKE    7.083333\n",
      "295    SLG    6.566708\n",
      "188    KMI    5.713128\n",
      "351    XOM    5.710535\n",
      "219     MO    5.226904\n",
      "259    PGR    5.083515\n",
      "90     CVX    5.057761\n",
      "\n",
      "Summary Statistics:\n",
      "AIV: Avg=12.68%, Max=205.45%, Min=0.52%\n",
      "CTL: Avg=9.91%, Max=18.21%, Min=3.11%\n",
      "T: Avg=5.99%, Max=7.66%, Min=2.04%\n",
      "OKE: Avg=7.90%, Max=30.03%, Min=2.12%\n",
      "SLG: Avg=2.95%, Max=8.40%, Min=0.13%\n",
      "KMI: Avg=4.66%, Max=13.43%, Min=1.44%\n",
      "XOM: Avg=4.02%, Max=10.80%, Min=0.70%\n",
      "MO: Avg=5.29%, Max=9.37%, Min=1.86%\n",
      "PGR: Avg=3.22%, Max=7.43%, Min=1.13%\n",
      "CVX: Avg=4.13%, Max=7.35%, Min=0.99%\n"
     ]
    }
   ],
   "source": [
    "fig, data = run_analysis()"
   ]
  },
  {
   "cell_type": "code",
   "execution_count": 9,
   "id": "dfd1df70",
   "metadata": {},
   "outputs": [
    {
     "data": {
      "application/vnd.plotly.v1+json": {
       "config": {
        "plotlyServerURL": "https://plot.ly"
       },
       "data": [
        {
         "hovertemplate": "<b>AIV</b><br>Date: %{x}<br>Dividend Yield: %{y:.2f}%<br><extra></extra>",
         "line": {
          "color": "#1f77b4",
          "width": 2
         },
         "marker": {
          "size": 4
         },
         "mode": "lines+markers",
         "name": "AIV",
         "type": "scatter",
         "x": [
          "2011-09-01T00:00:00.000000000",
          "2011-10-01T00:00:00.000000000",
          "2011-11-01T00:00:00.000000000",
          "2011-12-01T00:00:00.000000000",
          "2012-01-01T00:00:00.000000000",
          "2012-02-01T00:00:00.000000000",
          "2012-03-01T00:00:00.000000000",
          "2012-04-01T00:00:00.000000000",
          "2012-05-01T00:00:00.000000000",
          "2012-06-01T00:00:00.000000000",
          "2012-07-01T00:00:00.000000000",
          "2012-08-01T00:00:00.000000000",
          "2012-09-01T00:00:00.000000000",
          "2012-10-01T00:00:00.000000000",
          "2012-11-01T00:00:00.000000000",
          "2012-12-01T00:00:00.000000000",
          "2013-01-01T00:00:00.000000000",
          "2013-02-01T00:00:00.000000000",
          "2013-03-01T00:00:00.000000000",
          "2013-04-01T00:00:00.000000000",
          "2013-05-01T00:00:00.000000000",
          "2013-06-01T00:00:00.000000000",
          "2013-07-01T00:00:00.000000000",
          "2013-08-01T00:00:00.000000000",
          "2013-09-01T00:00:00.000000000",
          "2013-10-01T00:00:00.000000000",
          "2013-11-01T00:00:00.000000000",
          "2013-12-01T00:00:00.000000000",
          "2014-01-01T00:00:00.000000000",
          "2014-02-01T00:00:00.000000000",
          "2014-03-01T00:00:00.000000000",
          "2014-04-01T00:00:00.000000000",
          "2014-05-01T00:00:00.000000000",
          "2014-06-01T00:00:00.000000000",
          "2014-07-01T00:00:00.000000000",
          "2014-08-01T00:00:00.000000000",
          "2014-09-01T00:00:00.000000000",
          "2014-10-01T00:00:00.000000000",
          "2014-11-01T00:00:00.000000000",
          "2014-12-01T00:00:00.000000000",
          "2015-01-01T00:00:00.000000000",
          "2015-02-01T00:00:00.000000000",
          "2015-03-01T00:00:00.000000000",
          "2015-04-01T00:00:00.000000000",
          "2015-05-01T00:00:00.000000000",
          "2015-06-01T00:00:00.000000000",
          "2015-07-01T00:00:00.000000000",
          "2015-08-01T00:00:00.000000000",
          "2015-09-01T00:00:00.000000000",
          "2015-10-01T00:00:00.000000000",
          "2015-11-01T00:00:00.000000000",
          "2015-12-01T00:00:00.000000000",
          "2016-01-01T00:00:00.000000000",
          "2016-02-01T00:00:00.000000000",
          "2016-03-01T00:00:00.000000000",
          "2016-04-01T00:00:00.000000000",
          "2016-05-01T00:00:00.000000000",
          "2016-06-01T00:00:00.000000000",
          "2016-07-01T00:00:00.000000000",
          "2016-08-01T00:00:00.000000000",
          "2016-09-01T00:00:00.000000000",
          "2016-10-01T00:00:00.000000000",
          "2016-11-01T00:00:00.000000000",
          "2016-12-01T00:00:00.000000000",
          "2017-01-01T00:00:00.000000000",
          "2017-02-01T00:00:00.000000000",
          "2017-03-01T00:00:00.000000000",
          "2017-04-01T00:00:00.000000000",
          "2017-05-01T00:00:00.000000000",
          "2017-06-01T00:00:00.000000000",
          "2017-07-01T00:00:00.000000000",
          "2017-08-01T00:00:00.000000000",
          "2017-09-01T00:00:00.000000000",
          "2017-10-01T00:00:00.000000000",
          "2017-11-01T00:00:00.000000000",
          "2017-12-01T00:00:00.000000000",
          "2018-01-01T00:00:00.000000000",
          "2018-02-01T00:00:00.000000000",
          "2018-03-01T00:00:00.000000000",
          "2018-04-01T00:00:00.000000000",
          "2018-05-01T00:00:00.000000000",
          "2018-06-01T00:00:00.000000000",
          "2018-07-01T00:00:00.000000000",
          "2018-08-01T00:00:00.000000000",
          "2018-09-01T00:00:00.000000000",
          "2018-10-01T00:00:00.000000000",
          "2018-11-01T00:00:00.000000000",
          "2018-12-01T00:00:00.000000000",
          "2019-01-01T00:00:00.000000000",
          "2019-02-01T00:00:00.000000000",
          "2019-03-01T00:00:00.000000000",
          "2019-04-01T00:00:00.000000000",
          "2019-05-01T00:00:00.000000000",
          "2019-06-01T00:00:00.000000000",
          "2019-07-01T00:00:00.000000000",
          "2019-08-01T00:00:00.000000000",
          "2019-09-01T00:00:00.000000000",
          "2019-10-01T00:00:00.000000000",
          "2019-11-01T00:00:00.000000000",
          "2019-12-01T00:00:00.000000000",
          "2020-01-01T00:00:00.000000000",
          "2020-02-01T00:00:00.000000000",
          "2020-03-01T00:00:00.000000000",
          "2020-04-01T00:00:00.000000000",
          "2020-05-01T00:00:00.000000000",
          "2020-06-01T00:00:00.000000000",
          "2020-07-01T00:00:00.000000000",
          "2020-08-01T00:00:00.000000000",
          "2020-09-01T00:00:00.000000000",
          "2020-10-01T00:00:00.000000000",
          "2020-11-01T00:00:00.000000000",
          "2020-12-01T00:00:00.000000000",
          "2021-01-01T00:00:00.000000000",
          "2021-02-01T00:00:00.000000000",
          "2021-03-01T00:00:00.000000000",
          "2021-04-01T00:00:00.000000000",
          "2021-05-01T00:00:00.000000000",
          "2021-06-01T00:00:00.000000000"
         ],
         "y": {
          "bdata": "bYMEhVWI4D9eO/JZ/OXiP1K22P/5LuM/khJ1zBH79D9J/3j7ZUHyP8bc1lxtqvE/BvpIbrTw/T+eisLZEzz9P5lnehOcZPw/3gangW+qA0DJTdchIhIEQJj1cBJmKQRAXOKRN7imB0CAIafg2NwHQB9mMXKwWgdAnpGhE9J9CUDXf1zpGFwIQCkpK9SehgdAUgnNtfBOCECvUsKZtfMGQAmzm/ph1AZAuuxOq7GZCkAzMvApe30JQKft3FMIjgpANxjrUzOHDECZBfa92nwMQN6WplY7vQ9A4V5FK+ihEEAzbG0JtyoQQJNLezJQ4QtAk5J+eBY0DEDhRhF+BQQMQLYiFgnl4ApAAk8vXOH7CkC3DsVvrQEQQIaRYtWYaQ9An1iTww6/EEB4ZSsVKqcPQNMmaVXeBw1ArOM+JSOrDUDgqmVwWsMLQC8HEgwMFw1AID9i+cxPDUBpwtrg7j8NQBRtd3Xb6QxAHvMm/jaaDkCV4HHHZIgGQAo1/5X7cgZAZji3hHqeCUDt0G+2Dv0GQB+Dr/JQaglA80Lyj3uLCEDM3cjv9kIJQBieWMVMQApAEcqkZ6XiCUCoSKaBDoEIQDT3j+x04gdAnWMYT40CB0AkuVHhTzgGQNJwyOSOfQZAefE0/4c0BkCfDLsKmTsIQJpKuMBXiQdAKQU8L3e9B0CJYgzlqCcIQCf3mjbd0QdA1/VIyUOMCEB2v/H7lkcIQKgEuaBdcQlAlf5xOMs9CUBf0cVnw1kJQJBZGH1+MQhAjn86gptUCUCTyHflnKAJQHvWDabIZwlAo/QfxjKhCkBj1h7jkIgLQMHy84ZZzA1AUlbUfXC0DECiZS03Hw0NQMQEfCI+mwxAMDljm13uC0BbngppH3QMQPoDiugTYwxAV5+ytiyhC0C3lBlbvnkMQKuqqqqqCgpA8fDw8PDwC0C10/EPLkwKQF6L0WTetQhASkwnAJeLGECLVyW24eAYQIEi62U/DxhAVNxoVxbGGECFbw02ad4YQCgoKCgoKBhADYsIp5W0F0CqJnBTTeAWQKA60pDJPBdA0GoJivsBGEBxtB39MUgXQM0w1ZVz6xlADwKWb94rEkAHV9cWFPwQQJ2YBrcsJBFAL/wXIO0IEUCdIRCS1fEQQHP+0MmSlxFAB/HahcfCEkARdkUhr/sbQJA2FQIUfxBAhEKhUCg0Z0ASoIO8Sq5pQOiI5Ws0b2dAiIz22BAZYkDzPM/zPMdgQCgSTmle/F9AHk3IC1sFXkA=",
          "dtype": "f8"
         }
        },
        {
         "hovertemplate": "<b>CTL</b><br>Date: %{x}<br>Dividend Yield: %{y:.2f}%<br><extra></extra>",
         "line": {
          "color": "#ff7f0e",
          "width": 2
         },
         "marker": {
          "size": 4
         },
         "mode": "lines+markers",
         "name": "CTL",
         "type": "scatter",
         "x": [
          "2011-09-01T00:00:00.000000000",
          "2011-10-01T00:00:00.000000000",
          "2011-11-01T00:00:00.000000000",
          "2011-12-01T00:00:00.000000000",
          "2012-01-01T00:00:00.000000000",
          "2012-02-01T00:00:00.000000000",
          "2012-03-01T00:00:00.000000000",
          "2012-04-01T00:00:00.000000000",
          "2012-05-01T00:00:00.000000000",
          "2012-06-01T00:00:00.000000000",
          "2012-07-01T00:00:00.000000000",
          "2012-08-01T00:00:00.000000000",
          "2012-09-01T00:00:00.000000000",
          "2012-10-01T00:00:00.000000000",
          "2012-11-01T00:00:00.000000000",
          "2012-12-01T00:00:00.000000000",
          "2013-01-01T00:00:00.000000000",
          "2013-02-01T00:00:00.000000000",
          "2013-03-01T00:00:00.000000000",
          "2013-04-01T00:00:00.000000000",
          "2013-05-01T00:00:00.000000000",
          "2013-06-01T00:00:00.000000000",
          "2013-07-01T00:00:00.000000000",
          "2013-08-01T00:00:00.000000000",
          "2013-09-01T00:00:00.000000000",
          "2013-10-01T00:00:00.000000000",
          "2013-11-01T00:00:00.000000000",
          "2013-12-01T00:00:00.000000000",
          "2014-01-01T00:00:00.000000000",
          "2014-02-01T00:00:00.000000000",
          "2014-03-01T00:00:00.000000000",
          "2014-04-01T00:00:00.000000000",
          "2014-05-01T00:00:00.000000000",
          "2014-06-01T00:00:00.000000000",
          "2014-07-01T00:00:00.000000000",
          "2014-08-01T00:00:00.000000000",
          "2014-09-01T00:00:00.000000000",
          "2014-10-01T00:00:00.000000000",
          "2014-11-01T00:00:00.000000000",
          "2014-12-01T00:00:00.000000000",
          "2015-01-01T00:00:00.000000000",
          "2015-02-01T00:00:00.000000000",
          "2015-03-01T00:00:00.000000000",
          "2015-04-01T00:00:00.000000000",
          "2015-05-01T00:00:00.000000000",
          "2015-06-01T00:00:00.000000000",
          "2015-07-01T00:00:00.000000000",
          "2015-08-01T00:00:00.000000000",
          "2015-09-01T00:00:00.000000000",
          "2015-10-01T00:00:00.000000000",
          "2015-11-01T00:00:00.000000000",
          "2015-12-01T00:00:00.000000000",
          "2016-01-01T00:00:00.000000000",
          "2016-02-01T00:00:00.000000000",
          "2016-03-01T00:00:00.000000000",
          "2016-04-01T00:00:00.000000000",
          "2016-05-01T00:00:00.000000000",
          "2016-06-01T00:00:00.000000000",
          "2016-07-01T00:00:00.000000000",
          "2016-08-01T00:00:00.000000000",
          "2016-09-01T00:00:00.000000000",
          "2016-10-01T00:00:00.000000000",
          "2016-11-01T00:00:00.000000000",
          "2016-12-01T00:00:00.000000000",
          "2017-01-01T00:00:00.000000000",
          "2017-02-01T00:00:00.000000000",
          "2017-03-01T00:00:00.000000000",
          "2017-04-01T00:00:00.000000000",
          "2017-05-01T00:00:00.000000000",
          "2017-06-01T00:00:00.000000000",
          "2017-07-01T00:00:00.000000000",
          "2017-08-01T00:00:00.000000000",
          "2017-09-01T00:00:00.000000000",
          "2017-10-01T00:00:00.000000000",
          "2017-11-01T00:00:00.000000000",
          "2017-12-01T00:00:00.000000000",
          "2018-01-01T00:00:00.000000000",
          "2018-02-01T00:00:00.000000000",
          "2018-03-01T00:00:00.000000000",
          "2018-04-01T00:00:00.000000000",
          "2018-05-01T00:00:00.000000000",
          "2018-06-01T00:00:00.000000000",
          "2018-07-01T00:00:00.000000000",
          "2018-08-01T00:00:00.000000000",
          "2018-09-01T00:00:00.000000000",
          "2018-10-01T00:00:00.000000000",
          "2018-11-01T00:00:00.000000000",
          "2018-12-01T00:00:00.000000000",
          "2019-01-01T00:00:00.000000000",
          "2019-02-01T00:00:00.000000000",
          "2019-03-01T00:00:00.000000000",
          "2019-04-01T00:00:00.000000000",
          "2019-05-01T00:00:00.000000000",
          "2019-06-01T00:00:00.000000000",
          "2019-07-01T00:00:00.000000000",
          "2019-08-01T00:00:00.000000000",
          "2019-09-01T00:00:00.000000000",
          "2019-10-01T00:00:00.000000000",
          "2019-11-01T00:00:00.000000000",
          "2019-12-01T00:00:00.000000000",
          "2020-01-01T00:00:00.000000000",
          "2020-02-01T00:00:00.000000000",
          "2020-03-01T00:00:00.000000000",
          "2020-04-01T00:00:00.000000000",
          "2020-05-01T00:00:00.000000000",
          "2020-06-01T00:00:00.000000000",
          "2020-07-01T00:00:00.000000000",
          "2020-08-01T00:00:00.000000000",
          "2020-09-01T00:00:00.000000000",
          "2020-10-01T00:00:00.000000000",
          "2020-11-01T00:00:00.000000000",
          "2020-12-01T00:00:00.000000000",
          "2021-01-01T00:00:00.000000000",
          "2021-02-01T00:00:00.000000000",
          "2021-03-01T00:00:00.000000000",
          "2021-04-01T00:00:00.000000000",
          "2021-05-01T00:00:00.000000000",
          "2021-06-01T00:00:00.000000000"
         ],
         "y": {
          "bdata": "aoLLSeckC0AZjuiJ3yALQPJZYBB4AAlABYxCOX7jCEDQk+cXmgwYQItfRqnCIRhAi5JLuovhFkD5QOwkcbYhQMKF/FQlASFASGAkOR5BJkCXBlk1F8klQD5OFYMa6iRAsxVHTbTZHkB32WVUVZQmQL4vFl9QMiZAQ7gQzg56JUBl8adQph8lQJyf5L1v1ChAbfnsDC7CJ0Du6IjeaDQlQD2hzv6nFSVADdY8nYr+KkDWM0ls2QYkQImEocSGxSVAqF4i9PqQJUA8K8fV/AEkQFhxJo45xSRAtia8GBl5KUDuYEhPBkojQKscV5688CRAuIQ8MRQBI0CPUJV1I2ghQAGQ7Ck95x5A0C47uZJsF0DllwA90wsfQNIZh3m3lh1AkEhzfMyDIUCKhcoZs8YbQH5O5iJ0iBtA5865WiQoHECfOrdauDEdQC8jc+Ojgh1A2w7oJ+XcH0BCBbmfQ2seQE1Jw/WMfx9A3H49RBDsJEBRcWBDJ8IhQJ9E/LnhByRAk6nkdxIWHkDImd7PmUckQMvSh9ys8iJAc/ib9g28I0C1su98cTIlQC7zs0fA+yRAWndTTNg6IEBuAkcCK4AfQBrHVhdXhyBA4dV/VyGhIUD1AZqN7FAgQEW/LQvqQyFAJ1ynIbJrJkCgrxAT3v4hQCYXSOTD2CNAU1+//PMHJEC8W2RpV+AiQNz8XV5BDiNAy0p6pW8nKkCkszwu86UjQAPFnoOw8iNAi3HNFh0vIkAMoy3rBs8jQGvcptdYLCdADvgQKaM+J0D9VCphVnEmQDQorpg95C5AzD2NsNzTKEDt2y6Si0EoQNEbwF6+cihAPTFMBRpLKkChxrUgZ/UnQMWqzppDCShAyhwlRDrnLkB10yMi2/ooQPED8r0shyRAJcHEeTGSI0BB77WpBCclQMoFgENTMSVAme8rAca2KEDHtyXvqhUrQAopeZYRfTBAMuHsMeHsMUBouzqn8V8wQFJeQ3kN5TFAVsoe/4o2MkDpeG1TJiMqQFniSLqb8CtA60iMBRP4I0CLl7dQLPAjQPtNDkY2miFAL+GGCLRHHkAmVaybMewcQLaKHhDskSBAd1uvHEMkJUBFpmG7WZ4kQIjMaWpvKiRA34gCk07NI0BTCDSFQFMkQMNpSQg8PyJAyKzHvVTSI0DnRDTYrDMnQMeb6YgKjyNAqeXCXX2TJEAAhc59gWobQFj3iULKXCBA8HMTrydlHkCYKwNUsvUeQOzHXN9YqBxAkhdChzivGkA=",
          "dtype": "f8"
         }
        },
        {
         "hovertemplate": "<b>T</b><br>Date: %{x}<br>Dividend Yield: %{y:.2f}%<br><extra></extra>",
         "line": {
          "color": "#2ca02c",
          "width": 2
         },
         "marker": {
          "size": 4
         },
         "mode": "lines+markers",
         "name": "T",
         "type": "scatter",
         "x": [
          "2011-08-01T00:00:00.000000000",
          "2011-09-01T00:00:00.000000000",
          "2011-10-01T00:00:00.000000000",
          "2011-11-01T00:00:00.000000000",
          "2011-12-01T00:00:00.000000000",
          "2012-01-01T00:00:00.000000000",
          "2012-02-01T00:00:00.000000000",
          "2012-03-01T00:00:00.000000000",
          "2012-04-01T00:00:00.000000000",
          "2012-05-01T00:00:00.000000000",
          "2012-06-01T00:00:00.000000000",
          "2012-07-01T00:00:00.000000000",
          "2012-08-01T00:00:00.000000000",
          "2012-09-01T00:00:00.000000000",
          "2012-10-01T00:00:00.000000000",
          "2012-11-01T00:00:00.000000000",
          "2012-12-01T00:00:00.000000000",
          "2013-01-01T00:00:00.000000000",
          "2013-02-01T00:00:00.000000000",
          "2013-03-01T00:00:00.000000000",
          "2013-04-01T00:00:00.000000000",
          "2013-05-01T00:00:00.000000000",
          "2013-06-01T00:00:00.000000000",
          "2013-07-01T00:00:00.000000000",
          "2013-08-01T00:00:00.000000000",
          "2013-09-01T00:00:00.000000000",
          "2013-10-01T00:00:00.000000000",
          "2013-11-01T00:00:00.000000000",
          "2013-12-01T00:00:00.000000000",
          "2014-01-01T00:00:00.000000000",
          "2014-02-01T00:00:00.000000000",
          "2014-03-01T00:00:00.000000000",
          "2014-04-01T00:00:00.000000000",
          "2014-05-01T00:00:00.000000000",
          "2014-06-01T00:00:00.000000000",
          "2014-07-01T00:00:00.000000000",
          "2014-08-01T00:00:00.000000000",
          "2014-09-01T00:00:00.000000000",
          "2014-10-01T00:00:00.000000000",
          "2014-11-01T00:00:00.000000000",
          "2014-12-01T00:00:00.000000000",
          "2015-01-01T00:00:00.000000000",
          "2015-02-01T00:00:00.000000000",
          "2015-03-01T00:00:00.000000000",
          "2015-04-01T00:00:00.000000000",
          "2015-05-01T00:00:00.000000000",
          "2015-06-01T00:00:00.000000000",
          "2015-07-01T00:00:00.000000000",
          "2015-08-01T00:00:00.000000000",
          "2015-09-01T00:00:00.000000000",
          "2015-10-01T00:00:00.000000000",
          "2015-11-01T00:00:00.000000000",
          "2015-12-01T00:00:00.000000000",
          "2016-01-01T00:00:00.000000000",
          "2016-02-01T00:00:00.000000000",
          "2016-03-01T00:00:00.000000000",
          "2016-04-01T00:00:00.000000000",
          "2016-05-01T00:00:00.000000000",
          "2016-06-01T00:00:00.000000000",
          "2016-07-01T00:00:00.000000000",
          "2016-08-01T00:00:00.000000000",
          "2016-09-01T00:00:00.000000000",
          "2016-10-01T00:00:00.000000000",
          "2016-11-01T00:00:00.000000000",
          "2016-12-01T00:00:00.000000000",
          "2017-01-01T00:00:00.000000000",
          "2017-02-01T00:00:00.000000000",
          "2017-03-01T00:00:00.000000000",
          "2017-04-01T00:00:00.000000000",
          "2017-05-01T00:00:00.000000000",
          "2017-06-01T00:00:00.000000000",
          "2017-07-01T00:00:00.000000000",
          "2017-08-01T00:00:00.000000000",
          "2017-09-01T00:00:00.000000000",
          "2017-10-01T00:00:00.000000000",
          "2017-11-01T00:00:00.000000000",
          "2017-12-01T00:00:00.000000000",
          "2018-01-01T00:00:00.000000000",
          "2018-02-01T00:00:00.000000000",
          "2018-03-01T00:00:00.000000000",
          "2018-04-01T00:00:00.000000000",
          "2018-05-01T00:00:00.000000000",
          "2018-06-01T00:00:00.000000000",
          "2018-07-01T00:00:00.000000000",
          "2018-08-01T00:00:00.000000000",
          "2018-09-01T00:00:00.000000000",
          "2018-10-01T00:00:00.000000000",
          "2018-11-01T00:00:00.000000000",
          "2018-12-01T00:00:00.000000000",
          "2019-01-01T00:00:00.000000000",
          "2019-02-01T00:00:00.000000000",
          "2019-03-01T00:00:00.000000000",
          "2019-04-01T00:00:00.000000000",
          "2019-05-01T00:00:00.000000000",
          "2019-06-01T00:00:00.000000000",
          "2019-07-01T00:00:00.000000000",
          "2019-08-01T00:00:00.000000000",
          "2019-09-01T00:00:00.000000000",
          "2019-10-01T00:00:00.000000000",
          "2019-11-01T00:00:00.000000000",
          "2019-12-01T00:00:00.000000000",
          "2020-01-01T00:00:00.000000000",
          "2020-02-01T00:00:00.000000000",
          "2020-03-01T00:00:00.000000000",
          "2020-04-01T00:00:00.000000000",
          "2020-05-01T00:00:00.000000000",
          "2020-06-01T00:00:00.000000000",
          "2020-07-01T00:00:00.000000000",
          "2020-08-01T00:00:00.000000000",
          "2020-09-01T00:00:00.000000000",
          "2020-10-01T00:00:00.000000000",
          "2020-11-01T00:00:00.000000000",
          "2020-12-01T00:00:00.000000000",
          "2021-01-01T00:00:00.000000000",
          "2021-02-01T00:00:00.000000000",
          "2021-03-01T00:00:00.000000000",
          "2021-04-01T00:00:00.000000000",
          "2021-05-01T00:00:00.000000000",
          "2021-06-01T00:00:00.000000000"
         ],
         "y": {
          "bdata": "aWuuPHmMAECdWx/rnK8AQJkR8hGFTgBA4uLtdzugEEBJd8iv+4wQQBIspSnbBw9AxPHelAuQF0BQTopgsEkWQHyzvoM8lBZAx3XwqqfLG0BEKwwLzGsaQOyTifguExpAzgoGnwBaGUCEU3ZEmWQYQKcdyxO6QBhAPvDWbLR3G0Bo2cXPlAwbQNR/2MQgmRpAhEH8k6X9GUDtYipnWk0ZQFmi+Y1ZeRdAzto+mv+eGEAgbzrt37sZQNxnwACGzhlAGxy9p+thGkDOm2kk/1waQJBL9BOMTBlAfn9DB6JYGUB0Y9F+Tt8ZQH+rg56NYRpA836q2nlxG0AIXLJgaqEbQGCcds8VDxlA3wQuiprrGEC6nVrXmxEZQJEo4rqlVRhAaRAAyHZ0GUD1USeeZfYYQDem4q/22xhAs/5O1FnPGECKhVhfHXoaQMQtAxc3DRpATFpJ6Af7GEAEhiMraloaQCJ3x1XoCBpAL/nIWgCKGEC8Ni2GjKYXQBAHbAx2BxhAuOt9m9uLGECf2hZhEvEZQK7jDQ3I+RhACz6xfLYKGkABs0GHaI0YQAwigLb3ChhA7YqIimXCFkBJToW3IeYVQEd6lyFWoRVApJ/yVSU+FUDDdZ5LzrQTQIy7P/KLUBNAOV2vKeCfE0DoYaUVlzcUQMM4s2vnxRRAr/DWilJnFkBFXWqb4y0VQGDq3fxyhhNAySEt5mTvE0ADYpdtli4TQFjg/oZTfBNAza6KX977FEAm4fewE0QVQENnID5zChZAEpGGc5v1FEDITsSy9XsWQDiWqRDRdxdAtTtSzAauF0CrC7A7icYUQFEaH5lA7xRAzRoOxD61FUDCXuyxKbcWQJABEk8NGRhAnnZmslN/GECfH95m3G8ZQLkX+FeNexlAFQxWuJLdGEDBkNE8He4XQL4pyC810RdAni/MAODbGkC066K3eYEcQD9YR/tRVhpAddw9uuHVGUD8O6PeHCEaQP2AP+AP+BlA4OMmfmdcGUA+0sB8uRwYQHORYwn05RdAGgay0mcHF0DcMeR2DLkVQDHJ64oAhBVAOOqaaXHUFUDxU+VBbNYUQF3UwVL6zBVA2zmy9j9IF0CAKZU7AVMaQEmkaRn4FhpAmwD3F+XYG0D5Td/hn4wbQHdIZ3O33RtAFjuxEzuxG0AeBdqHfIcdQLQesgzbpB5AwzYlNvaoHEDQESjaavAcQB7jLBZ4Dx1A/mZG7dvUHUAgGJItojkbQPOHhiMRChtAVcRRrD1FHEC+Jr68WJwcQA==",
          "dtype": "f8"
         }
        },
        {
         "hovertemplate": "<b>OKE</b><br>Date: %{x}<br>Dividend Yield: %{y:.2f}%<br><extra></extra>",
         "line": {
          "color": "#d62728",
          "width": 2
         },
         "marker": {
          "size": 4
         },
         "mode": "lines+markers",
         "name": "OKE",
         "type": "scatter",
         "x": [
          "2011-08-01T00:00:00.000000000",
          "2011-09-01T00:00:00.000000000",
          "2011-10-01T00:00:00.000000000",
          "2011-11-01T00:00:00.000000000",
          "2011-12-01T00:00:00.000000000",
          "2012-01-01T00:00:00.000000000",
          "2012-02-01T00:00:00.000000000",
          "2012-03-01T00:00:00.000000000",
          "2012-04-01T00:00:00.000000000",
          "2012-05-01T00:00:00.000000000",
          "2012-06-01T00:00:00.000000000",
          "2012-07-01T00:00:00.000000000",
          "2012-08-01T00:00:00.000000000",
          "2012-09-01T00:00:00.000000000",
          "2012-10-01T00:00:00.000000000",
          "2012-11-01T00:00:00.000000000",
          "2012-12-01T00:00:00.000000000",
          "2013-01-01T00:00:00.000000000",
          "2013-02-01T00:00:00.000000000",
          "2013-03-01T00:00:00.000000000",
          "2013-04-01T00:00:00.000000000",
          "2013-05-01T00:00:00.000000000",
          "2013-06-01T00:00:00.000000000",
          "2013-07-01T00:00:00.000000000",
          "2013-08-01T00:00:00.000000000",
          "2013-09-01T00:00:00.000000000",
          "2013-10-01T00:00:00.000000000",
          "2013-11-01T00:00:00.000000000",
          "2013-12-01T00:00:00.000000000",
          "2014-01-01T00:00:00.000000000",
          "2014-02-01T00:00:00.000000000",
          "2014-03-01T00:00:00.000000000",
          "2014-04-01T00:00:00.000000000",
          "2014-05-01T00:00:00.000000000",
          "2014-06-01T00:00:00.000000000",
          "2014-07-01T00:00:00.000000000",
          "2014-08-01T00:00:00.000000000",
          "2014-09-01T00:00:00.000000000",
          "2014-10-01T00:00:00.000000000",
          "2014-11-01T00:00:00.000000000",
          "2014-12-01T00:00:00.000000000",
          "2015-01-01T00:00:00.000000000",
          "2015-02-01T00:00:00.000000000",
          "2015-03-01T00:00:00.000000000",
          "2015-04-01T00:00:00.000000000",
          "2015-05-01T00:00:00.000000000",
          "2015-06-01T00:00:00.000000000",
          "2015-07-01T00:00:00.000000000",
          "2015-08-01T00:00:00.000000000",
          "2015-09-01T00:00:00.000000000",
          "2015-10-01T00:00:00.000000000",
          "2015-11-01T00:00:00.000000000",
          "2015-12-01T00:00:00.000000000",
          "2016-01-01T00:00:00.000000000",
          "2016-02-01T00:00:00.000000000",
          "2016-03-01T00:00:00.000000000",
          "2016-04-01T00:00:00.000000000",
          "2016-05-01T00:00:00.000000000",
          "2016-06-01T00:00:00.000000000",
          "2016-07-01T00:00:00.000000000",
          "2016-08-01T00:00:00.000000000",
          "2016-09-01T00:00:00.000000000",
          "2016-10-01T00:00:00.000000000",
          "2016-11-01T00:00:00.000000000",
          "2016-12-01T00:00:00.000000000",
          "2017-01-01T00:00:00.000000000",
          "2017-02-01T00:00:00.000000000",
          "2017-03-01T00:00:00.000000000",
          "2017-04-01T00:00:00.000000000",
          "2017-05-01T00:00:00.000000000",
          "2017-06-01T00:00:00.000000000",
          "2017-07-01T00:00:00.000000000",
          "2017-08-01T00:00:00.000000000",
          "2017-09-01T00:00:00.000000000",
          "2017-10-01T00:00:00.000000000",
          "2017-11-01T00:00:00.000000000",
          "2017-12-01T00:00:00.000000000",
          "2018-01-01T00:00:00.000000000",
          "2018-02-01T00:00:00.000000000",
          "2018-03-01T00:00:00.000000000",
          "2018-04-01T00:00:00.000000000",
          "2018-05-01T00:00:00.000000000",
          "2018-06-01T00:00:00.000000000",
          "2018-07-01T00:00:00.000000000",
          "2018-08-01T00:00:00.000000000",
          "2018-09-01T00:00:00.000000000",
          "2018-10-01T00:00:00.000000000",
          "2018-11-01T00:00:00.000000000",
          "2018-12-01T00:00:00.000000000",
          "2019-01-01T00:00:00.000000000",
          "2019-02-01T00:00:00.000000000",
          "2019-03-01T00:00:00.000000000",
          "2019-04-01T00:00:00.000000000",
          "2019-05-01T00:00:00.000000000",
          "2019-06-01T00:00:00.000000000",
          "2019-07-01T00:00:00.000000000",
          "2019-08-01T00:00:00.000000000",
          "2019-09-01T00:00:00.000000000",
          "2019-10-01T00:00:00.000000000",
          "2019-11-01T00:00:00.000000000",
          "2019-12-01T00:00:00.000000000",
          "2020-01-01T00:00:00.000000000",
          "2020-02-01T00:00:00.000000000",
          "2020-03-01T00:00:00.000000000",
          "2020-04-01T00:00:00.000000000",
          "2020-05-01T00:00:00.000000000",
          "2020-06-01T00:00:00.000000000",
          "2020-07-01T00:00:00.000000000",
          "2020-08-01T00:00:00.000000000",
          "2020-09-01T00:00:00.000000000",
          "2020-10-01T00:00:00.000000000",
          "2020-11-01T00:00:00.000000000",
          "2020-12-01T00:00:00.000000000",
          "2021-01-01T00:00:00.000000000",
          "2021-02-01T00:00:00.000000000",
          "2021-03-01T00:00:00.000000000",
          "2021-04-01T00:00:00.000000000",
          "2021-05-01T00:00:00.000000000",
          "2021-06-01T00:00:00.000000000"
         ],
         "y": {
          "bdata": "sBSVKFZXBUBSnYhxW/kDQORSD5QDawJASJ6V/DXxAEB/8mkqX3IQQLAv3CMVng5AgzpzD/13GUCTpdcaNP0YQNunQ38ICBlA/yjtTqQLIEBxcR13wGcgQJHFz/WGPiBAwWYqhwSsF0CYhbhCIeYZQCW6rHdQYxpAhXEsCnWKHkDAvuD5TSwZQEKp1OhQRhdAZY4ULDLkE0BJCTIQDukUQNGQt57gihNAfvIRZIaqEEDEEhxF2dwRQNKXP/ryRxJAo3yfgNhpE0AkZ0UrFNcOQJmn0kFALg9AkOI4z9QKEkD/eGH8m5AMQGpoDztKuQhAD7In9IpPAkCzhMSFBik1QH556di2xzRAAEStwAP9M0BOKUCBhmQyQG71MNny3TJAihthxM1ENED/L6hnBiAzQJe9gfmGJTRAfZF54nZyNkCzbkLfB5I8QIItlZELSTxAat1ElycHPkCkCe7OpLIXQANqPzRFihVA5AENgSYnGECO7PGHwaMaQPAGSQw5Mh1AtkoFwyilH0CQSS2HL8weQPL5o/FiMR1Ac/M+qf7UH0DKke/iCpQqQJNVNcgbmSVAlgr6swP7KUCKECh7L7AiQEgqpVQ23yFAZiblFwVmGkAW4NbTiZAXQCyuu/BuLhZAVSPM5HmuEEDb+xVDcXUVQNRBTNE5sxRAMOU5YNGYFUBT31wuP6IRQJDB9ddmhBJAeNjhEBygEkAgWUDLTpsTQE29jla6SxJAOxJnW1iBFEDp1CJLd+ATQCBYLBD0mRJA+vYZ9xgdE0BS6Ec567ESQJABS3VCnxJADMgBH0y3DUC748WW4NsUQMAnSckKfBJAzmI6i+ksFEDQfEbFGSsUQJ6pp8S9GBNAESGCwAZQEkCWSkqGTMQRQBON0+X3oRFAx8jXbUroEUBrpMjET0kTQLrOi3YnNxNAt4x28NOxFEC8mybmW/gUQM6AUHKnaBRArhNtA2nCFEBrLne1OToTQHwhRcDGaBNAfphkyPQ8FUCMFuKjK8sTQD0ywGrY4hNAABkrHpUbE0Bfmv7Tle8SQDnO84U+whNA7q5Jw9SvGEAGH7V8ybgSQNzDtpyctRJA8vgU4281E0AZIxEWdIcwQFPRcSvPRylA/NaCEqghJECix3fhIHomQDdRvLOo4ypAK0QbPn8MMUAyE/XWuJosQJZ7GmG5pylABV3+2+fsI0AGvrj6QUcjQFyZcuehxyJAVryTH8x5IEDgt4OD5cMdQAf/tpzpcBxAV1VVVVVVHEBdITVjvh0bQA==",
          "dtype": "f8"
         }
        },
        {
         "hovertemplate": "<b>SLG</b><br>Date: %{x}<br>Dividend Yield: %{y:.2f}%<br><extra></extra>",
         "line": {
          "color": "#9467bd",
          "width": 2
         },
         "marker": {
          "size": 4
         },
         "mode": "lines+markers",
         "name": "SLG",
         "type": "scatter",
         "x": [
          "2011-07-01T00:00:00.000000000",
          "2011-08-01T00:00:00.000000000",
          "2011-09-01T00:00:00.000000000",
          "2011-10-01T00:00:00.000000000",
          "2011-11-01T00:00:00.000000000",
          "2011-12-01T00:00:00.000000000",
          "2012-01-01T00:00:00.000000000",
          "2012-02-01T00:00:00.000000000",
          "2012-03-01T00:00:00.000000000",
          "2012-04-01T00:00:00.000000000",
          "2012-05-01T00:00:00.000000000",
          "2012-06-01T00:00:00.000000000",
          "2012-07-01T00:00:00.000000000",
          "2012-08-01T00:00:00.000000000",
          "2012-09-01T00:00:00.000000000",
          "2012-10-01T00:00:00.000000000",
          "2012-11-01T00:00:00.000000000",
          "2012-12-01T00:00:00.000000000",
          "2013-01-01T00:00:00.000000000",
          "2013-02-01T00:00:00.000000000",
          "2013-03-01T00:00:00.000000000",
          "2013-04-01T00:00:00.000000000",
          "2013-05-01T00:00:00.000000000",
          "2013-06-01T00:00:00.000000000",
          "2013-07-01T00:00:00.000000000",
          "2013-08-01T00:00:00.000000000",
          "2013-09-01T00:00:00.000000000",
          "2013-10-01T00:00:00.000000000",
          "2013-11-01T00:00:00.000000000",
          "2013-12-01T00:00:00.000000000",
          "2014-01-01T00:00:00.000000000",
          "2014-02-01T00:00:00.000000000",
          "2014-03-01T00:00:00.000000000",
          "2014-04-01T00:00:00.000000000",
          "2014-05-01T00:00:00.000000000",
          "2014-06-01T00:00:00.000000000",
          "2014-07-01T00:00:00.000000000",
          "2014-08-01T00:00:00.000000000",
          "2014-09-01T00:00:00.000000000",
          "2014-10-01T00:00:00.000000000",
          "2014-11-01T00:00:00.000000000",
          "2014-12-01T00:00:00.000000000",
          "2015-01-01T00:00:00.000000000",
          "2015-02-01T00:00:00.000000000",
          "2015-03-01T00:00:00.000000000",
          "2015-04-01T00:00:00.000000000",
          "2015-05-01T00:00:00.000000000",
          "2015-06-01T00:00:00.000000000",
          "2015-07-01T00:00:00.000000000",
          "2015-08-01T00:00:00.000000000",
          "2015-09-01T00:00:00.000000000",
          "2015-10-01T00:00:00.000000000",
          "2015-11-01T00:00:00.000000000",
          "2015-12-01T00:00:00.000000000",
          "2016-01-01T00:00:00.000000000",
          "2016-02-01T00:00:00.000000000",
          "2016-03-01T00:00:00.000000000",
          "2016-04-01T00:00:00.000000000",
          "2016-05-01T00:00:00.000000000",
          "2016-06-01T00:00:00.000000000",
          "2016-07-01T00:00:00.000000000",
          "2016-08-01T00:00:00.000000000",
          "2016-09-01T00:00:00.000000000",
          "2016-10-01T00:00:00.000000000",
          "2016-11-01T00:00:00.000000000",
          "2016-12-01T00:00:00.000000000",
          "2017-01-01T00:00:00.000000000",
          "2017-02-01T00:00:00.000000000",
          "2017-03-01T00:00:00.000000000",
          "2017-04-01T00:00:00.000000000",
          "2017-05-01T00:00:00.000000000",
          "2017-06-01T00:00:00.000000000",
          "2017-07-01T00:00:00.000000000",
          "2017-08-01T00:00:00.000000000",
          "2017-09-01T00:00:00.000000000",
          "2017-10-01T00:00:00.000000000",
          "2017-11-01T00:00:00.000000000",
          "2017-12-01T00:00:00.000000000",
          "2018-01-01T00:00:00.000000000",
          "2018-02-01T00:00:00.000000000",
          "2018-03-01T00:00:00.000000000",
          "2018-04-01T00:00:00.000000000",
          "2018-05-01T00:00:00.000000000",
          "2018-06-01T00:00:00.000000000",
          "2018-07-01T00:00:00.000000000",
          "2018-08-01T00:00:00.000000000",
          "2018-09-01T00:00:00.000000000",
          "2018-10-01T00:00:00.000000000",
          "2018-11-01T00:00:00.000000000",
          "2018-12-01T00:00:00.000000000",
          "2019-01-01T00:00:00.000000000",
          "2019-02-01T00:00:00.000000000",
          "2019-03-01T00:00:00.000000000",
          "2019-04-01T00:00:00.000000000",
          "2019-05-01T00:00:00.000000000",
          "2019-06-01T00:00:00.000000000",
          "2019-07-01T00:00:00.000000000",
          "2019-08-01T00:00:00.000000000",
          "2019-09-01T00:00:00.000000000",
          "2019-10-01T00:00:00.000000000",
          "2019-11-01T00:00:00.000000000",
          "2019-12-01T00:00:00.000000000",
          "2020-01-01T00:00:00.000000000",
          "2020-02-01T00:00:00.000000000",
          "2020-03-01T00:00:00.000000000",
          "2020-04-01T00:00:00.000000000",
          "2020-05-01T00:00:00.000000000",
          "2020-06-01T00:00:00.000000000",
          "2020-07-01T00:00:00.000000000",
          "2020-08-01T00:00:00.000000000",
          "2020-09-01T00:00:00.000000000",
          "2020-10-01T00:00:00.000000000",
          "2020-11-01T00:00:00.000000000",
          "2020-12-01T00:00:00.000000000",
          "2021-01-01T00:00:00.000000000",
          "2021-02-01T00:00:00.000000000",
          "2021-03-01T00:00:00.000000000",
          "2021-04-01T00:00:00.000000000",
          "2021-05-01T00:00:00.000000000",
          "2021-06-01T00:00:00.000000000"
         ],
         "y": {
          "bdata": "6Tld+AfawD89+0JNmsbDP+Ufd7UNfcQ/27VL9RlR2D+IHov56wbWPxSxhcDrZNY/ebXfu7ka5z/1hI4UaP3lP8vrEGDbI+U/IDXU225/8D+kDPdhJ4TvP3bm0vs7nO8/e4ttE7Yk9D/PxHKuWBbzPwB32fFhzPI/jm5a3Xk39z82qRpxyEP4Pxn2gTh3x/c/oqkVM6LY9z/YdDsSvUL3PwzWVqyHd/Y/++K9i5Gx9z/kSH2ojOD2PyiXscFJZPg/gmKgwpJ79z8cxV5lP0P5P9lMC2Di1vc/OMlP3kGC+T9bH90Tj675PyH04feCB/o/aHxUEbFi/D90pcgoni78P2xhtzNmwPo/ycl9ImxH/T9agi8kYPj6Pwg7LfmhX/o/+4KgE3b6/D+UArCL2R79P1UPBKhjH/8/Hk/LMTMpAUAqlVG99Hb+P/72RzYyKv0/oloQhdWh/T+t28R4Vdr8P+3YVIJBPfw/nxmDB6Tv/T9vUMCpN7f+PyrnCyTUSwBA1eI/PIgmAUDFg+CuDIgCQA+GoEuMlAJAGxYfmV4vAUA6yedlExoBQL++/93RzAFAW60j4Ne4BEALVUOipVUKQA/GAtEJFQdAM0ysXoLzBkARresEuiAFQLrSbVQ8bQVA7HqjnfQqBUBl4MAyYPsDQGF54JHn0wRAUAxvwx/FBkDfypm5HyIHQO2GbdHMmAZAg3S0wLQjBkD0ZdnvEE8GQAX+a+IplgVAPA2bqhfMBkAvZhNiazIHQMbVmCVRRwdAfZnv5g33B0CTU9/ntIMJQNyeARc+cAhAbh0qMZLOB0DvRLEvx7wIQFNr3XdZ/QhA1fY5F1z4CECGY746zOUJQKLUbnJt1AlApxEpkMD8CUAsWq6ynN8JQM5ffJe6jQlAlPDqYO2ACUCdzgVig/cIQHBWdYCrBgpASgomFk+8C0AZ3qwJ82wMQEkAIZOqdRBAjqtwaHbFDUAuvQtKhP0MQD0WGdSMSQ1ABzIpXiCTDkA84o64I+4OQPGj5dfDVhBAVcXFmzGXEEDuay9LMsQQQD5Hs43dcxBAC0zV2tyFEEAQgWqaUeAPQJ9yG5mRjw1ASdAVYz2aDUBN/sQjPoQRQBLmx+BUziBAL+ZOBSK3FUAwu8652MsgQGKQJEDtKBxAE0000UQTGUACev+9lkAaQGVBpt6JZh5AgGR5NdJUHECoOJwH1G8VQGbVExoBZRlAgeaXgeaXG0BNB8F48rYcQCk3RKEREh5Ai/1Xoc0sHkA+mw6OOqYaQG8DGh9PRBpA",
          "dtype": "f8"
         }
        },
        {
         "hovertemplate": "<b>KMI</b><br>Date: %{x}<br>Dividend Yield: %{y:.2f}%<br><extra></extra>",
         "line": {
          "color": "#8c564b",
          "width": 2
         },
         "marker": {
          "size": 4
         },
         "mode": "lines+markers",
         "name": "KMI",
         "type": "scatter",
         "x": [
          "2011-08-01T00:00:00.000000000",
          "2011-09-01T00:00:00.000000000",
          "2011-10-01T00:00:00.000000000",
          "2011-11-01T00:00:00.000000000",
          "2011-12-01T00:00:00.000000000",
          "2012-01-01T00:00:00.000000000",
          "2012-02-01T00:00:00.000000000",
          "2012-03-01T00:00:00.000000000",
          "2012-04-01T00:00:00.000000000",
          "2012-05-01T00:00:00.000000000",
          "2012-06-01T00:00:00.000000000",
          "2012-07-01T00:00:00.000000000",
          "2012-08-01T00:00:00.000000000",
          "2012-09-01T00:00:00.000000000",
          "2012-10-01T00:00:00.000000000",
          "2012-11-01T00:00:00.000000000",
          "2012-12-01T00:00:00.000000000",
          "2013-01-01T00:00:00.000000000",
          "2013-02-01T00:00:00.000000000",
          "2013-03-01T00:00:00.000000000",
          "2013-04-01T00:00:00.000000000",
          "2013-05-01T00:00:00.000000000",
          "2013-06-01T00:00:00.000000000",
          "2013-07-01T00:00:00.000000000",
          "2013-08-01T00:00:00.000000000",
          "2013-09-01T00:00:00.000000000",
          "2013-10-01T00:00:00.000000000",
          "2013-11-01T00:00:00.000000000",
          "2013-12-01T00:00:00.000000000",
          "2014-01-01T00:00:00.000000000",
          "2014-02-01T00:00:00.000000000",
          "2014-03-01T00:00:00.000000000",
          "2014-04-01T00:00:00.000000000",
          "2014-05-01T00:00:00.000000000",
          "2014-06-01T00:00:00.000000000",
          "2014-07-01T00:00:00.000000000",
          "2014-08-01T00:00:00.000000000",
          "2014-09-01T00:00:00.000000000",
          "2014-10-01T00:00:00.000000000",
          "2014-11-01T00:00:00.000000000",
          "2014-12-01T00:00:00.000000000",
          "2015-01-01T00:00:00.000000000",
          "2015-02-01T00:00:00.000000000",
          "2015-03-01T00:00:00.000000000",
          "2015-04-01T00:00:00.000000000",
          "2015-05-01T00:00:00.000000000",
          "2015-06-01T00:00:00.000000000",
          "2015-07-01T00:00:00.000000000",
          "2015-08-01T00:00:00.000000000",
          "2015-09-01T00:00:00.000000000",
          "2015-10-01T00:00:00.000000000",
          "2015-11-01T00:00:00.000000000",
          "2015-12-01T00:00:00.000000000",
          "2016-01-01T00:00:00.000000000",
          "2016-02-01T00:00:00.000000000",
          "2016-03-01T00:00:00.000000000",
          "2016-04-01T00:00:00.000000000",
          "2016-05-01T00:00:00.000000000",
          "2016-06-01T00:00:00.000000000",
          "2016-07-01T00:00:00.000000000",
          "2016-08-01T00:00:00.000000000",
          "2016-09-01T00:00:00.000000000",
          "2016-10-01T00:00:00.000000000",
          "2016-11-01T00:00:00.000000000",
          "2016-12-01T00:00:00.000000000",
          "2017-01-01T00:00:00.000000000",
          "2017-02-01T00:00:00.000000000",
          "2017-03-01T00:00:00.000000000",
          "2017-04-01T00:00:00.000000000",
          "2017-05-01T00:00:00.000000000",
          "2017-06-01T00:00:00.000000000",
          "2017-07-01T00:00:00.000000000",
          "2017-08-01T00:00:00.000000000",
          "2017-09-01T00:00:00.000000000",
          "2017-10-01T00:00:00.000000000",
          "2017-11-01T00:00:00.000000000",
          "2017-12-01T00:00:00.000000000",
          "2018-01-01T00:00:00.000000000",
          "2018-02-01T00:00:00.000000000",
          "2018-03-01T00:00:00.000000000",
          "2018-04-01T00:00:00.000000000",
          "2018-05-01T00:00:00.000000000",
          "2018-06-01T00:00:00.000000000",
          "2018-07-01T00:00:00.000000000",
          "2018-08-01T00:00:00.000000000",
          "2018-09-01T00:00:00.000000000",
          "2018-10-01T00:00:00.000000000",
          "2018-11-01T00:00:00.000000000",
          "2018-12-01T00:00:00.000000000",
          "2019-01-01T00:00:00.000000000",
          "2019-02-01T00:00:00.000000000",
          "2019-03-01T00:00:00.000000000",
          "2019-04-01T00:00:00.000000000",
          "2019-05-01T00:00:00.000000000",
          "2019-06-01T00:00:00.000000000",
          "2019-07-01T00:00:00.000000000",
          "2019-08-01T00:00:00.000000000",
          "2019-09-01T00:00:00.000000000",
          "2019-10-01T00:00:00.000000000",
          "2019-11-01T00:00:00.000000000",
          "2019-12-01T00:00:00.000000000",
          "2020-01-01T00:00:00.000000000",
          "2020-02-01T00:00:00.000000000",
          "2020-03-01T00:00:00.000000000",
          "2020-04-01T00:00:00.000000000",
          "2020-05-01T00:00:00.000000000",
          "2020-06-01T00:00:00.000000000",
          "2020-07-01T00:00:00.000000000",
          "2020-08-01T00:00:00.000000000",
          "2020-09-01T00:00:00.000000000",
          "2020-10-01T00:00:00.000000000",
          "2020-11-01T00:00:00.000000000",
          "2020-12-01T00:00:00.000000000",
          "2021-01-01T00:00:00.000000000",
          "2021-02-01T00:00:00.000000000",
          "2021-03-01T00:00:00.000000000",
          "2021-04-01T00:00:00.000000000",
          "2021-05-01T00:00:00.000000000",
          "2021-06-01T00:00:00.000000000"
         ],
         "y": {
          "bdata": "P5GKgHfo9z8sRsrgn9f3P75caYoUB/c/MQnVzyfZBED9LiEDDaoCQD83p5V8XwJA9rLjjzhCDEC4RnjgN/sGQOxd/7wjtAZAs3EYQA8JEkAw4flFtasSQGav7uftVBFAf48wmNyWEUC3/1F74LYRQCqLr1XbWxFAqvoAMu/xDEDskb3dY+EKQIGkdZIOswlAfTn5l1qlCkBxtptnWKULQM8LHVpCgQpASvBwN2KaCkAKAotX81ALQMAk/OO7YwtANbYRMG1ADUC4dAbD40sOQOeJhnz6xg5Adih/OoK1FEBcT69cqMcUQMNAyJxQAhRARZYfRjbwFkDgwExKZg8XQJiNpkRi2hZAK6YE6+10FkA7ScbJtJcUQL0+Ic/gOhRAfQD8EUVFEkDd9StSfrYTQDCsHO7IThNA2IznxlhLEkCV6N4m9ywSQEEldcLX3RFAwAf2rBo/EkDea2khJhoTQLHG0PIXWxJAkmBSc4oqEkD0MNqdxXkTQA3sdPf8PhZAEIwAWlXYGECOSdJyh/MZQE5EWIKsXRlA+qMas9liIUCyRAFiKtwqQG2+eXb+GSpAN5fTf5flJkDE5vQE1gMiQHTdRrAZgyJAWfODD/sgHkBAOvhzcwccQIMnAt1HgBlA5eUJADi1EEBaNP+BEBUQQHAuWJzf/BBA8DwcXbpTBEAHOfrkqmkDQNOkC9kVPwJAZIVRm1c3AkCEzQUHt+gCQOTDHUn54QJAtUvH8rGZBUAri4wKhxIFQNCb6oef9gRAmEJjwarPA0CEFe7Yyc0EQBaivIs/OgZAPrHY7HlVBkBcqDkJxIUGQDbrQoc3PwZAn/xKDNgBAkAYe5UZJ9sCQLAgHUqd9gJAOCkPIGE1BkAa60NjfWgEQHm0ZXhxkQRAxUZ/FRJkB0DxiqoeFTQIQNaRVKwj8QhA6ExevAseDEBkok+osa4NQJ+0MPggBQxAcPaYcPaYEEClAJECRAoQQPvlqG5oBBBAI2g4qfvyEECV/bTqaxEQQP6GXmEEgRBApqWlpaWlEUC0mM5iOosRQEogLtScBBJAQXZhMRJKE0AgehB44fsRQA+kn4Rh6xFA5TeQ30B+E0CxkI5zpyQeQBGN0pDPzhpAmlUyPixcGUCS72M1exIbQApicgUxuRxAfFNmH9+UHUAJn2IVSaAgQIIVOoMVOiFAf3PqcDXyG0AKQO7m/qkdQNBFF110eR1ARvQB1bG3GkCbk0BcqDkZQKKIIoooohhA5RZ2tR7KHEBRtZM8PtoWQA==",
          "dtype": "f8"
         }
        },
        {
         "hovertemplate": "<b>XOM</b><br>Date: %{x}<br>Dividend Yield: %{y:.2f}%<br><extra></extra>",
         "line": {
          "color": "#e377c2",
          "width": 2
         },
         "marker": {
          "size": 4
         },
         "mode": "lines+markers",
         "name": "XOM",
         "type": "scatter",
         "x": [
          "2011-09-01T00:00:00.000000000",
          "2011-10-01T00:00:00.000000000",
          "2011-11-01T00:00:00.000000000",
          "2011-12-01T00:00:00.000000000",
          "2012-01-01T00:00:00.000000000",
          "2012-02-01T00:00:00.000000000",
          "2012-03-01T00:00:00.000000000",
          "2012-04-01T00:00:00.000000000",
          "2012-05-01T00:00:00.000000000",
          "2012-06-01T00:00:00.000000000",
          "2012-07-01T00:00:00.000000000",
          "2012-08-01T00:00:00.000000000",
          "2012-09-01T00:00:00.000000000",
          "2012-10-01T00:00:00.000000000",
          "2012-11-01T00:00:00.000000000",
          "2012-12-01T00:00:00.000000000",
          "2013-01-01T00:00:00.000000000",
          "2013-02-01T00:00:00.000000000",
          "2013-03-01T00:00:00.000000000",
          "2013-04-01T00:00:00.000000000",
          "2013-05-01T00:00:00.000000000",
          "2013-06-01T00:00:00.000000000",
          "2013-07-01T00:00:00.000000000",
          "2013-08-01T00:00:00.000000000",
          "2013-09-01T00:00:00.000000000",
          "2013-10-01T00:00:00.000000000",
          "2013-11-01T00:00:00.000000000",
          "2013-12-01T00:00:00.000000000",
          "2014-01-01T00:00:00.000000000",
          "2014-02-01T00:00:00.000000000",
          "2014-03-01T00:00:00.000000000",
          "2014-04-01T00:00:00.000000000",
          "2014-05-01T00:00:00.000000000",
          "2014-06-01T00:00:00.000000000",
          "2014-07-01T00:00:00.000000000",
          "2014-08-01T00:00:00.000000000",
          "2014-09-01T00:00:00.000000000",
          "2014-10-01T00:00:00.000000000",
          "2014-11-01T00:00:00.000000000",
          "2014-12-01T00:00:00.000000000",
          "2015-01-01T00:00:00.000000000",
          "2015-02-01T00:00:00.000000000",
          "2015-03-01T00:00:00.000000000",
          "2015-04-01T00:00:00.000000000",
          "2015-05-01T00:00:00.000000000",
          "2015-06-01T00:00:00.000000000",
          "2015-07-01T00:00:00.000000000",
          "2015-08-01T00:00:00.000000000",
          "2015-09-01T00:00:00.000000000",
          "2015-10-01T00:00:00.000000000",
          "2015-11-01T00:00:00.000000000",
          "2015-12-01T00:00:00.000000000",
          "2016-01-01T00:00:00.000000000",
          "2016-02-01T00:00:00.000000000",
          "2016-03-01T00:00:00.000000000",
          "2016-04-01T00:00:00.000000000",
          "2016-05-01T00:00:00.000000000",
          "2016-06-01T00:00:00.000000000",
          "2016-07-01T00:00:00.000000000",
          "2016-08-01T00:00:00.000000000",
          "2016-09-01T00:00:00.000000000",
          "2016-10-01T00:00:00.000000000",
          "2016-11-01T00:00:00.000000000",
          "2016-12-01T00:00:00.000000000",
          "2017-01-01T00:00:00.000000000",
          "2017-02-01T00:00:00.000000000",
          "2017-03-01T00:00:00.000000000",
          "2017-04-01T00:00:00.000000000",
          "2017-05-01T00:00:00.000000000",
          "2017-06-01T00:00:00.000000000",
          "2017-07-01T00:00:00.000000000",
          "2017-08-01T00:00:00.000000000",
          "2017-09-01T00:00:00.000000000",
          "2017-10-01T00:00:00.000000000",
          "2017-11-01T00:00:00.000000000",
          "2017-12-01T00:00:00.000000000",
          "2018-01-01T00:00:00.000000000",
          "2018-02-01T00:00:00.000000000",
          "2018-03-01T00:00:00.000000000",
          "2018-04-01T00:00:00.000000000",
          "2018-05-01T00:00:00.000000000",
          "2018-06-01T00:00:00.000000000",
          "2018-07-01T00:00:00.000000000",
          "2018-08-01T00:00:00.000000000",
          "2018-09-01T00:00:00.000000000",
          "2018-10-01T00:00:00.000000000",
          "2018-11-01T00:00:00.000000000",
          "2018-12-01T00:00:00.000000000",
          "2019-01-01T00:00:00.000000000",
          "2019-02-01T00:00:00.000000000",
          "2019-03-01T00:00:00.000000000",
          "2019-04-01T00:00:00.000000000",
          "2019-05-01T00:00:00.000000000",
          "2019-06-01T00:00:00.000000000",
          "2019-07-01T00:00:00.000000000",
          "2019-08-01T00:00:00.000000000",
          "2019-09-01T00:00:00.000000000",
          "2019-10-01T00:00:00.000000000",
          "2019-11-01T00:00:00.000000000",
          "2019-12-01T00:00:00.000000000",
          "2020-01-01T00:00:00.000000000",
          "2020-02-01T00:00:00.000000000",
          "2020-03-01T00:00:00.000000000",
          "2020-04-01T00:00:00.000000000",
          "2020-05-01T00:00:00.000000000",
          "2020-06-01T00:00:00.000000000",
          "2020-07-01T00:00:00.000000000",
          "2020-08-01T00:00:00.000000000",
          "2020-09-01T00:00:00.000000000",
          "2020-10-01T00:00:00.000000000",
          "2020-11-01T00:00:00.000000000",
          "2020-12-01T00:00:00.000000000",
          "2021-01-01T00:00:00.000000000",
          "2021-02-01T00:00:00.000000000",
          "2021-03-01T00:00:00.000000000",
          "2021-04-01T00:00:00.000000000",
          "2021-05-01T00:00:00.000000000",
          "2021-06-01T00:00:00.000000000"
         ],
         "y": {
          "bdata": "kRiVwr4B6T/I80CJbUTmP60HDOmSROc/KeZSIqKc9j9XKPq53bj0PzDN0DtFSvU/wsPhdzY5/z/Rj+BAEFT/P1vhB5YU+f8/Y4r7zideB0C1wvoLODwGQLPDlVvRQwVACv510EJwBUCR9VXqubcFQLJrBHk+fAVArW19T4NkB0Bo967LZ5oGQCnRrljqAAdAoniLC0bxB0Ap00nng+4HQLiDT5hzeQdAhZS0BlcwCEAMp0be7gkIQL1XeSqeoQhAxq1jzyXwCED4fKtGqTwJQA4B2m1/AwdA5/7tolJ8B0C7lSMD9tkGQA2vK14IAQlAR9rVk59vB0DIfiEfBdAGQKKFHfIpkQZAKwypg/bLBkAzipV4vZYGQNYtfnA/kQdA+OeSJ20OCUBz+YdwOAIJQA7A20pSkghACtlW0xVLCkBGwXp0wMAKQH3Ep75W0gpAJy8tyHxSDEAB7bzbB60LQEmkC0dt1QtA0RevaiwwDUDmyp2oFLcNQD6yFqtCShBANBX02PQXEUB4hBBdvb0OQP5mfZ3Eiw5AdTU5FRcgEEDSCX3J9D4QQORjEiZ+pg5Ay62rtQWiDUDP2vNeDGYMQFeHm4GapgtA9V2OLeA8C0C6lkkWJDQKQFoqFTcy/AtAkokxTaLFDUBs1+2mg6EMQNS14yk0sgxARKpHl79eDEAbzBWzxSANQDA035GRnA1AiSe7KsTwDUBUqJRiJPkNQLe10AjAPQ5AMzMzMzMzDkD5VUxxOHQOQHiKq66/4A5Aw+YqJsinDkCaA3PHZZYNQKWiv5E3RA1AIoX+z7p7DUA2dLfKflMMQOsWZ8EZKRBA634F4L6HEEApVktcagEQQOhdWXVzVA5AnD3ICuMhDkAgmoh+QZwPQDNSqfe4oA9A8O5tAYNbD0Dbdt0aoX0QQGeshoJ40w9AOJWsa7FIEUBVcip0zSsSQHhq9xYlWRBA8qWM2Z00EEB2gOBdEKcPQKNk+j73iRJA9HDllNlhEUBJ5sSLPawRQAtttp2soRNA579H8b0lE0D1E6xm7fYTQAKmVpYr2BNAqT5qWGupE0DavZuIH2gWQOAy6ALwVxhAykS2ER6qIkDOtCJmbvQdQLB5KoX0NR9AswMM525oH0DbVLgBAi0fQGdljXUXbSFAtLZ4nQy2I0DxGUCKu5slQBKC4nRXUSFAsRM7sRO7IEDMZFbcvFgeQMMhL+MzmhlA+LVMFjlAGEBTKc+Wk1EYQBqOuNAN2RdA9hl9eZbXFkA=",
          "dtype": "f8"
         }
        },
        {
         "hovertemplate": "<b>MO</b><br>Date: %{x}<br>Dividend Yield: %{y:.2f}%<br><extra></extra>",
         "line": {
          "color": "#7f7f7f",
          "width": 2
         },
         "marker": {
          "size": 4
         },
         "mode": "lines+markers",
         "name": "MO",
         "type": "scatter",
         "x": [
          "2011-10-01T00:00:00.000000000",
          "2011-11-01T00:00:00.000000000",
          "2011-12-01T00:00:00.000000000",
          "2012-01-01T00:00:00.000000000",
          "2012-02-01T00:00:00.000000000",
          "2012-03-01T00:00:00.000000000",
          "2012-04-01T00:00:00.000000000",
          "2012-05-01T00:00:00.000000000",
          "2012-06-01T00:00:00.000000000",
          "2012-07-01T00:00:00.000000000",
          "2012-08-01T00:00:00.000000000",
          "2012-09-01T00:00:00.000000000",
          "2012-10-01T00:00:00.000000000",
          "2012-11-01T00:00:00.000000000",
          "2012-12-01T00:00:00.000000000",
          "2013-01-01T00:00:00.000000000",
          "2013-02-01T00:00:00.000000000",
          "2013-03-01T00:00:00.000000000",
          "2013-04-01T00:00:00.000000000",
          "2013-05-01T00:00:00.000000000",
          "2013-06-01T00:00:00.000000000",
          "2013-07-01T00:00:00.000000000",
          "2013-08-01T00:00:00.000000000",
          "2013-09-01T00:00:00.000000000",
          "2013-10-01T00:00:00.000000000",
          "2013-11-01T00:00:00.000000000",
          "2013-12-01T00:00:00.000000000",
          "2014-01-01T00:00:00.000000000",
          "2014-02-01T00:00:00.000000000",
          "2014-03-01T00:00:00.000000000",
          "2014-04-01T00:00:00.000000000",
          "2014-05-01T00:00:00.000000000",
          "2014-06-01T00:00:00.000000000",
          "2014-07-01T00:00:00.000000000",
          "2014-08-01T00:00:00.000000000",
          "2014-09-01T00:00:00.000000000",
          "2014-10-01T00:00:00.000000000",
          "2014-11-01T00:00:00.000000000",
          "2014-12-01T00:00:00.000000000",
          "2015-01-01T00:00:00.000000000",
          "2015-02-01T00:00:00.000000000",
          "2015-03-01T00:00:00.000000000",
          "2015-04-01T00:00:00.000000000",
          "2015-05-01T00:00:00.000000000",
          "2015-06-01T00:00:00.000000000",
          "2015-07-01T00:00:00.000000000",
          "2015-08-01T00:00:00.000000000",
          "2015-09-01T00:00:00.000000000",
          "2015-10-01T00:00:00.000000000",
          "2015-11-01T00:00:00.000000000",
          "2015-12-01T00:00:00.000000000",
          "2016-01-01T00:00:00.000000000",
          "2016-02-01T00:00:00.000000000",
          "2016-03-01T00:00:00.000000000",
          "2016-04-01T00:00:00.000000000",
          "2016-05-01T00:00:00.000000000",
          "2016-06-01T00:00:00.000000000",
          "2016-07-01T00:00:00.000000000",
          "2016-08-01T00:00:00.000000000",
          "2016-09-01T00:00:00.000000000",
          "2016-10-01T00:00:00.000000000",
          "2016-11-01T00:00:00.000000000",
          "2016-12-01T00:00:00.000000000",
          "2017-01-01T00:00:00.000000000",
          "2017-02-01T00:00:00.000000000",
          "2017-03-01T00:00:00.000000000",
          "2017-04-01T00:00:00.000000000",
          "2017-05-01T00:00:00.000000000",
          "2017-06-01T00:00:00.000000000",
          "2017-07-01T00:00:00.000000000",
          "2017-08-01T00:00:00.000000000",
          "2017-09-01T00:00:00.000000000",
          "2017-10-01T00:00:00.000000000",
          "2017-11-01T00:00:00.000000000",
          "2017-12-01T00:00:00.000000000",
          "2018-01-01T00:00:00.000000000",
          "2018-02-01T00:00:00.000000000",
          "2018-03-01T00:00:00.000000000",
          "2018-04-01T00:00:00.000000000",
          "2018-05-01T00:00:00.000000000",
          "2018-06-01T00:00:00.000000000",
          "2018-07-01T00:00:00.000000000",
          "2018-08-01T00:00:00.000000000",
          "2018-09-01T00:00:00.000000000",
          "2018-10-01T00:00:00.000000000",
          "2018-11-01T00:00:00.000000000",
          "2018-12-01T00:00:00.000000000",
          "2019-01-01T00:00:00.000000000",
          "2019-02-01T00:00:00.000000000",
          "2019-03-01T00:00:00.000000000",
          "2019-04-01T00:00:00.000000000",
          "2019-05-01T00:00:00.000000000",
          "2019-06-01T00:00:00.000000000",
          "2019-07-01T00:00:00.000000000",
          "2019-08-01T00:00:00.000000000",
          "2019-09-01T00:00:00.000000000",
          "2019-10-01T00:00:00.000000000",
          "2019-11-01T00:00:00.000000000",
          "2019-12-01T00:00:00.000000000",
          "2020-01-01T00:00:00.000000000",
          "2020-02-01T00:00:00.000000000",
          "2020-03-01T00:00:00.000000000",
          "2020-04-01T00:00:00.000000000",
          "2020-05-01T00:00:00.000000000",
          "2020-06-01T00:00:00.000000000",
          "2020-07-01T00:00:00.000000000",
          "2020-08-01T00:00:00.000000000",
          "2020-09-01T00:00:00.000000000",
          "2020-10-01T00:00:00.000000000",
          "2020-11-01T00:00:00.000000000",
          "2020-12-01T00:00:00.000000000",
          "2021-01-01T00:00:00.000000000",
          "2021-02-01T00:00:00.000000000",
          "2021-03-01T00:00:00.000000000",
          "2021-04-01T00:00:00.000000000",
          "2021-05-01T00:00:00.000000000",
          "2021-06-01T00:00:00.000000000"
         ],
         "y": {
          "bdata": "eeQZaXZw/z8muhzOEX//P5gp95wlwf0/lSNXz4TqDUCZIZNeItUNQBOYUYfNDAxAEvcOIOBJFEDaka+BA4ATQLMwauCxNRNAkkym00vRF0AaAgGCxrMXQFe84yYPTBhAJTsMuVHPGECvPwlgvtYaQEd42ZmR6hlAzs4vdorSGUDGjys0vXAYQER6DbkinxhAD18ezO8eF0Csrog38CsXQGXW+dlLURdAYvI7oUDZF0Dw4op1dP4YQAapqgTEGhhAFemp8J4TGEDRplGGCaAWQD25uPJvEBdA20Qaf1V0F0BVjImoMGwYQEsuCR345RZA8r2ljp0tF0DulNK456oVQKH3ZGaujBRAaIE3bKCLFEBQWpH1LYkUQHmVz6nWKBNA4PDYrfmiE0DZXQkANckRQJDxTcreTBFADt881490EUBh9wMq6LAQQBJcXh+BjRFATasIWgdIEUDcrY++2oQRQL6R2tPwwxJAdGHuF3HHEUCox81tTwgRQD09gmOkDxFAoHCgJnbQEEAJB9XkUigQQEGawBPghw9AEXj0CoBNEECq3f5HlFMOQHJLJnqBqQ1AHCMmAetaDkAoni3AaPkNQFBU+oPRNgxAo44iq2mAC0CC61ifFOIMQHN2YkhDnAxAqtD6ULk2D0CMEAhEHugNQMJu1D1yGg1AkFwrgFPcDECKvYnef7MKQOVBOc4+twlAseb1ijFzC0A98H6SitsLQPxl2ptNywlAaY949vzsCkA3srARIGQOQBOTACQUpw9AXN5ut9KeD0AkGeZXvYcOQDxP9IoHHQxAqGst0GTjDEBOnVrBWAoQQGiGlUuOTRBALAojALe/EkBbjN329A0TQIi5yPTaXBJAZJNNNtlkE0C3hhVG6BATQJ4Ds+9oNBJAdYGYPDkIE0BlLOOrGGMVQA2/HX3ZDxdActHjsMaxG0D5LhxEj+8WQKBSf0r9KRVAELZT3TqqFkCcsNgeP7IYQF5l00YeMBpAQt/fflyUGUAavvh5ikMdQIB2g6wGex9AveSiIl7vHECXiwHNkhMaQEgEs2mRxhlA7ImZl60mGkAgupl6JUcgQDa8/0vM9iBAo0zFc83qIEDM+S3v5hshQCTL7awC7SBAz1FPh5tUIEALECe4iIQeQBlAMreHTyFAvTzHy3O8IkBd2yWd3fggQNlIuTGrhB9AzUSkz5WNIEDahr/bB3keQGudSGMKiBpAwfwT2undHEDNx+B8DM4bQHcHvsb5thtA",
          "dtype": "f8"
         }
        },
        {
         "hovertemplate": "<b>PGR</b><br>Date: %{x}<br>Dividend Yield: %{y:.2f}%<br><extra></extra>",
         "line": {
          "color": "#bcbd22",
          "width": 2
         },
         "marker": {
          "size": 4
         },
         "mode": "lines+markers",
         "name": "PGR",
         "type": "scatter",
         "x": [
          "2012-02-01T00:00:00.000000000",
          "2012-03-01T00:00:00.000000000",
          "2012-04-01T00:00:00.000000000",
          "2012-05-01T00:00:00.000000000",
          "2012-06-01T00:00:00.000000000",
          "2012-07-01T00:00:00.000000000",
          "2012-08-01T00:00:00.000000000",
          "2012-09-01T00:00:00.000000000",
          "2012-10-01T00:00:00.000000000",
          "2012-11-01T00:00:00.000000000",
          "2012-12-01T00:00:00.000000000",
          "2013-01-01T00:00:00.000000000",
          "2013-02-01T00:00:00.000000000",
          "2013-03-01T00:00:00.000000000",
          "2013-04-01T00:00:00.000000000",
          "2013-05-01T00:00:00.000000000",
          "2013-06-01T00:00:00.000000000",
          "2013-07-01T00:00:00.000000000",
          "2013-08-01T00:00:00.000000000",
          "2013-09-01T00:00:00.000000000",
          "2013-10-01T00:00:00.000000000",
          "2013-11-01T00:00:00.000000000",
          "2013-12-01T00:00:00.000000000",
          "2014-01-01T00:00:00.000000000",
          "2014-02-01T00:00:00.000000000",
          "2014-03-01T00:00:00.000000000",
          "2014-04-01T00:00:00.000000000",
          "2014-05-01T00:00:00.000000000",
          "2014-06-01T00:00:00.000000000",
          "2014-07-01T00:00:00.000000000",
          "2014-08-01T00:00:00.000000000",
          "2014-09-01T00:00:00.000000000",
          "2014-10-01T00:00:00.000000000",
          "2014-11-01T00:00:00.000000000",
          "2014-12-01T00:00:00.000000000",
          "2015-01-01T00:00:00.000000000",
          "2015-03-01T00:00:00.000000000",
          "2015-04-01T00:00:00.000000000",
          "2015-05-01T00:00:00.000000000",
          "2015-06-01T00:00:00.000000000",
          "2015-07-01T00:00:00.000000000",
          "2015-08-01T00:00:00.000000000",
          "2015-09-01T00:00:00.000000000",
          "2015-10-01T00:00:00.000000000",
          "2015-11-01T00:00:00.000000000",
          "2015-12-01T00:00:00.000000000",
          "2016-01-01T00:00:00.000000000",
          "2016-02-01T00:00:00.000000000",
          "2016-03-01T00:00:00.000000000",
          "2016-04-01T00:00:00.000000000",
          "2016-05-01T00:00:00.000000000",
          "2016-06-01T00:00:00.000000000",
          "2016-07-01T00:00:00.000000000",
          "2016-08-01T00:00:00.000000000",
          "2016-09-01T00:00:00.000000000",
          "2016-10-01T00:00:00.000000000",
          "2016-11-01T00:00:00.000000000",
          "2016-12-01T00:00:00.000000000",
          "2017-01-01T00:00:00.000000000",
          "2017-02-01T00:00:00.000000000",
          "2017-03-01T00:00:00.000000000",
          "2017-04-01T00:00:00.000000000",
          "2017-05-01T00:00:00.000000000",
          "2017-06-01T00:00:00.000000000",
          "2017-07-01T00:00:00.000000000",
          "2017-08-01T00:00:00.000000000",
          "2017-09-01T00:00:00.000000000",
          "2017-10-01T00:00:00.000000000",
          "2017-11-01T00:00:00.000000000",
          "2017-12-01T00:00:00.000000000",
          "2018-01-01T00:00:00.000000000",
          "2018-02-01T00:00:00.000000000",
          "2018-03-01T00:00:00.000000000",
          "2018-04-01T00:00:00.000000000",
          "2018-05-01T00:00:00.000000000",
          "2018-06-01T00:00:00.000000000",
          "2018-07-01T00:00:00.000000000",
          "2018-08-01T00:00:00.000000000",
          "2018-09-01T00:00:00.000000000",
          "2018-10-01T00:00:00.000000000",
          "2018-11-01T00:00:00.000000000",
          "2018-12-01T00:00:00.000000000",
          "2019-01-01T00:00:00.000000000",
          "2019-02-01T00:00:00.000000000",
          "2019-03-01T00:00:00.000000000",
          "2019-04-01T00:00:00.000000000",
          "2019-05-01T00:00:00.000000000",
          "2019-06-01T00:00:00.000000000",
          "2019-07-01T00:00:00.000000000",
          "2019-08-01T00:00:00.000000000",
          "2019-09-01T00:00:00.000000000",
          "2019-10-01T00:00:00.000000000",
          "2019-11-01T00:00:00.000000000",
          "2019-12-01T00:00:00.000000000",
          "2020-01-01T00:00:00.000000000",
          "2020-02-01T00:00:00.000000000",
          "2020-03-01T00:00:00.000000000",
          "2020-04-01T00:00:00.000000000",
          "2020-05-01T00:00:00.000000000",
          "2020-06-01T00:00:00.000000000",
          "2020-07-01T00:00:00.000000000",
          "2020-08-01T00:00:00.000000000",
          "2020-09-01T00:00:00.000000000",
          "2020-10-01T00:00:00.000000000",
          "2020-11-01T00:00:00.000000000",
          "2020-12-01T00:00:00.000000000",
          "2021-01-01T00:00:00.000000000",
          "2021-02-01T00:00:00.000000000",
          "2021-03-01T00:00:00.000000000",
          "2021-04-01T00:00:00.000000000",
          "2021-05-01T00:00:00.000000000",
          "2021-06-01T00:00:00.000000000"
         ],
         "y": {
          "bdata": "y8r6Rlb0AUCbk471ZLMAQJYDUcHJ9gBAqChPM8EwAkC3KL9wTHMCQNq2yW232gJAb5nit6+bA0BHqfyPH7MCQDgVhnTyXwFAcHfvV/tVAUAi//c1s7kdQNonX6JAGhxAXOH0dfF5GECH7gwiDTcXQAwOl2iQXRdAK+sKdrRrFkDSlc0vcTkXQFUN3sIHOxZAK+sKdrRrFkCzyLcgjhsVQE8aJKXHZxVA0o20eYqlFEDi6+P7xCfyP/QVh3UdG/Q/3Rqk0dkBEkDxTCChDhsSQKkJFc2x2RFAYxvu7rkxEUCJfLHzxBURQKF5K6H+mxFAooomSNk/EUBTBk7CseUQQJ/ohxenexBAwC5z/zuZD0DK2uZrWgcQQLW8fUNQBBBAsdR6dOmtBUAkoWxrYoQFQOB0BxFrVQVAtNnz9Y3eBEAgBSoBF+ICQKrXUhvZigJApvk80R+GA0DGlm2GmHcBQIU5aUzuxAFA3ahBS7m5AUDHH9UcB4EDQOJFGGxVARRA6lZmZL75BUA2UGtAnKUFQPcqyr828QVA3Q62KtGXBkB6vapevCsGQGE2wvyrOQZASMY6/O1jBkD7h7ld3KAGQBlQCS57AgdAycIXhPCjBUDZ0Yp6EVQDQJ/xxUaAaP0/UNao7EvN+z+aKcBaJqn7P8vpRFaKJvs/lFgDT076+D8jFBiMAEn3PxxJefenrPY/CY4Aqa+b9z83xOb0kUb2P1VavJwnF/Y/El96s35k8z98zak1po70Pw6YLgzJFQlAes+OncKI/T/elAY5Bdn9P3Mlmb5XFv4/+cferBIL/T9lPFj1flv/P7CLnfMZKv0/G0e5n0mP+z+nRt10eE36P5L00cLfL/4/6okcUEZeAEDqBh1g5CX+P0OjJbWBBBRAFG/ha9vvC0CQA7KarGUKQIQAwg+dYApArlArPLQxCkCAWiSfUvUJQGlPA7rHpQxADok3LcAyDEBGk9sKSBwPQOE68DE30Q5AZ1xd0CQZD0BJamL6POYLQPPm9uznOxxAhWXWIfK1DEC2+TYS9WwLQO9fyx9iXwxAMtdHc7tAC0CgogNA24QHQHVGKKxPuAZAU9SAOejkBkCfn7WsjBEHQCK6BYqxtgdAvw/ZUqxwBUB6RrxUH/UHQJKC884SgBZA/MUM6MxfFEC++9JtoqATQONSFsgwyBNAJhM57YRVFEA=",
          "dtype": "f8"
         }
        },
        {
         "hovertemplate": "<b>CVX</b><br>Date: %{x}<br>Dividend Yield: %{y:.2f}%<br><extra></extra>",
         "line": {
          "color": "#17becf",
          "width": 2
         },
         "marker": {
          "size": 4
         },
         "mode": "lines+markers",
         "name": "CVX",
         "type": "scatter",
         "x": [
          "2011-09-01T00:00:00.000000000",
          "2011-10-01T00:00:00.000000000",
          "2011-11-01T00:00:00.000000000",
          "2011-12-01T00:00:00.000000000",
          "2012-01-01T00:00:00.000000000",
          "2012-02-01T00:00:00.000000000",
          "2012-03-01T00:00:00.000000000",
          "2012-04-01T00:00:00.000000000",
          "2012-05-01T00:00:00.000000000",
          "2012-06-01T00:00:00.000000000",
          "2012-07-01T00:00:00.000000000",
          "2012-08-01T00:00:00.000000000",
          "2012-09-01T00:00:00.000000000",
          "2012-10-01T00:00:00.000000000",
          "2012-11-01T00:00:00.000000000",
          "2012-12-01T00:00:00.000000000",
          "2013-01-01T00:00:00.000000000",
          "2013-02-01T00:00:00.000000000",
          "2013-03-01T00:00:00.000000000",
          "2013-04-01T00:00:00.000000000",
          "2013-05-01T00:00:00.000000000",
          "2013-06-01T00:00:00.000000000",
          "2013-07-01T00:00:00.000000000",
          "2013-08-01T00:00:00.000000000",
          "2013-09-01T00:00:00.000000000",
          "2013-10-01T00:00:00.000000000",
          "2013-11-01T00:00:00.000000000",
          "2013-12-01T00:00:00.000000000",
          "2014-01-01T00:00:00.000000000",
          "2014-02-01T00:00:00.000000000",
          "2014-03-01T00:00:00.000000000",
          "2014-04-01T00:00:00.000000000",
          "2014-05-01T00:00:00.000000000",
          "2014-06-01T00:00:00.000000000",
          "2014-07-01T00:00:00.000000000",
          "2014-08-01T00:00:00.000000000",
          "2014-09-01T00:00:00.000000000",
          "2014-10-01T00:00:00.000000000",
          "2014-11-01T00:00:00.000000000",
          "2014-12-01T00:00:00.000000000",
          "2015-01-01T00:00:00.000000000",
          "2015-02-01T00:00:00.000000000",
          "2015-03-01T00:00:00.000000000",
          "2015-04-01T00:00:00.000000000",
          "2015-05-01T00:00:00.000000000",
          "2015-06-01T00:00:00.000000000",
          "2015-07-01T00:00:00.000000000",
          "2015-08-01T00:00:00.000000000",
          "2015-09-01T00:00:00.000000000",
          "2015-10-01T00:00:00.000000000",
          "2015-11-01T00:00:00.000000000",
          "2015-12-01T00:00:00.000000000",
          "2016-01-01T00:00:00.000000000",
          "2016-02-01T00:00:00.000000000",
          "2016-03-01T00:00:00.000000000",
          "2016-04-01T00:00:00.000000000",
          "2016-05-01T00:00:00.000000000",
          "2016-06-01T00:00:00.000000000",
          "2016-07-01T00:00:00.000000000",
          "2016-08-01T00:00:00.000000000",
          "2016-09-01T00:00:00.000000000",
          "2016-10-01T00:00:00.000000000",
          "2016-11-01T00:00:00.000000000",
          "2016-12-01T00:00:00.000000000",
          "2017-01-01T00:00:00.000000000",
          "2017-02-01T00:00:00.000000000",
          "2017-03-01T00:00:00.000000000",
          "2017-04-01T00:00:00.000000000",
          "2017-05-01T00:00:00.000000000",
          "2017-06-01T00:00:00.000000000",
          "2017-07-01T00:00:00.000000000",
          "2017-08-01T00:00:00.000000000",
          "2017-09-01T00:00:00.000000000",
          "2017-10-01T00:00:00.000000000",
          "2017-11-01T00:00:00.000000000",
          "2017-12-01T00:00:00.000000000",
          "2018-01-01T00:00:00.000000000",
          "2018-02-01T00:00:00.000000000",
          "2018-03-01T00:00:00.000000000",
          "2018-04-01T00:00:00.000000000",
          "2018-05-01T00:00:00.000000000",
          "2018-06-01T00:00:00.000000000",
          "2018-07-01T00:00:00.000000000",
          "2018-08-01T00:00:00.000000000",
          "2018-09-01T00:00:00.000000000",
          "2018-10-01T00:00:00.000000000",
          "2018-11-01T00:00:00.000000000",
          "2018-12-01T00:00:00.000000000",
          "2019-01-01T00:00:00.000000000",
          "2019-02-01T00:00:00.000000000",
          "2019-03-01T00:00:00.000000000",
          "2019-04-01T00:00:00.000000000",
          "2019-05-01T00:00:00.000000000",
          "2019-06-01T00:00:00.000000000",
          "2019-07-01T00:00:00.000000000",
          "2019-08-01T00:00:00.000000000",
          "2019-09-01T00:00:00.000000000",
          "2019-10-01T00:00:00.000000000",
          "2019-11-01T00:00:00.000000000",
          "2019-12-01T00:00:00.000000000",
          "2020-01-01T00:00:00.000000000",
          "2020-02-01T00:00:00.000000000",
          "2020-03-01T00:00:00.000000000",
          "2020-04-01T00:00:00.000000000",
          "2020-05-01T00:00:00.000000000",
          "2020-06-01T00:00:00.000000000",
          "2020-07-01T00:00:00.000000000",
          "2020-08-01T00:00:00.000000000",
          "2020-09-01T00:00:00.000000000",
          "2020-10-01T00:00:00.000000000",
          "2020-11-01T00:00:00.000000000",
          "2020-12-01T00:00:00.000000000",
          "2021-01-01T00:00:00.000000000",
          "2021-02-01T00:00:00.000000000",
          "2021-03-01T00:00:00.000000000",
          "2021-04-01T00:00:00.000000000",
          "2021-05-01T00:00:00.000000000",
          "2021-06-01T00:00:00.000000000"
         ],
         "y": {
          "bdata": "FnEbCFzS7z+Qk/sydC7wPyA6FBXOP/A/WMGTtssP/z+ss+4LUOX9P+26C9wRDv0/JllBf45PBkDKA1q2urEHQNbLcaQX8gdAJRSnM6hUEEAxFtuJ9AgPQErUoWS8wwxAlb5Z94jADECLC7EBM34MQHtC6F4zChBATQ+38n+fD0DoWsP+puoNQFa+dN1URA1A1oPlwKXqDEDJKEr5zqcNQCvNohPdCQxAwznhmoARDUDpkQZQ8oMMQG0MGeTyTwxA6aHWi7ktDUDsuG32dR0OQK+hDdVD4w1AwID4ShJJDUBMa9gQ5ooNQGAjMJoUIBBAXYxfHBvXD0AeS+JTfxEOQAoLL5gYxQ1AGJY4XqNyDkASVtJcumAMQGs3xpMQag1A6xAAj+mFDkBqZPLJKAMRQGtBrKq3RhBAixsXqDrgEEDwPvNTwbQRQMxFnLWMThFA7jA2zRanEkAzDoay17oRQFzrkiTRGhJAydIA5SK1E0BScRQ8tGAUQNovNanONhZA7gCJyl/UGECP9H+fVzMVQFUImRDUdhRA7U9jiKaZFEBvtfop/poVQPWi3FfE+RVAgdvA0sAKE0AoKg/a7K4RQGTPrCqWxhFAZultObAOEkAUKXR6dosRQFPBzMhsrhFAGgcM3s8fEkDGxeXZcNgRQMrOWxbetBBAdjxrERL+DkAI7iO4j+AOQDvDzmcRFBBAPdL0IVdoEEAS7yLzkEIQQGtmsSe/gBBARa6aXO/fEEC9FpYt7AsRQGPItAnRFxBA+83kYwsBD0DOfFLKw0YNQAuakh87Kg5AhxtuuOGGC0C+l1YQIJILQDOftjYT4Q5Aga5q4bWjDkBI9IvX4x4MQHM0d8dK3gtAoESmYbtZDEBsrwD2ijUMQPYDxsFJAA1AJxTA1m4gDUDSJPwnEtkPQKgcEfKGrQ5AyD6+ddCoEEBP2tl8iD8QQAtJ9Qax4Q1AmFshQOSkDUAE5w3ec1EOQEbBxN1BxA5AuQGEpdyWDUC5x1yIE2ANQIr+PTWp6A9AYCAlisCiD0AawkOxJScQQIJU4pHNsQ9AAF1ChFqZD0AS6813acURQGHj5V2vaxNAardnp80EG0CxkIUsZCEVQJ7r5JwWMxVAH+89iVyhFkD+pJh4YP8WQH2ZREzyCBdAEb2DEnQmHECcsqasKWsdQGPDVSePKhZAQtDybsRwGEDaUYuQv2YXQA0c/GaM+hNAoOZZeAx8E0DX7I+jyU4TQIWgKZlxCRRAJ+H8sWGKE0A=",
          "dtype": "f8"
         }
        }
       ],
       "layout": {
        "height": 600,
        "hovermode": "x unified",
        "legend": {
         "orientation": "v",
         "x": 1.02,
         "xanchor": "left",
         "y": 1,
         "yanchor": "top"
        },
        "template": {
         "data": {
          "bar": [
           {
            "error_x": {
             "color": "#2a3f5f"
            },
            "error_y": {
             "color": "#2a3f5f"
            },
            "marker": {
             "line": {
              "color": "white",
              "width": 0.5
             },
             "pattern": {
              "fillmode": "overlay",
              "size": 10,
              "solidity": 0.2
             }
            },
            "type": "bar"
           }
          ],
          "barpolar": [
           {
            "marker": {
             "line": {
              "color": "white",
              "width": 0.5
             },
             "pattern": {
              "fillmode": "overlay",
              "size": 10,
              "solidity": 0.2
             }
            },
            "type": "barpolar"
           }
          ],
          "carpet": [
           {
            "aaxis": {
             "endlinecolor": "#2a3f5f",
             "gridcolor": "#C8D4E3",
             "linecolor": "#C8D4E3",
             "minorgridcolor": "#C8D4E3",
             "startlinecolor": "#2a3f5f"
            },
            "baxis": {
             "endlinecolor": "#2a3f5f",
             "gridcolor": "#C8D4E3",
             "linecolor": "#C8D4E3",
             "minorgridcolor": "#C8D4E3",
             "startlinecolor": "#2a3f5f"
            },
            "type": "carpet"
           }
          ],
          "choropleth": [
           {
            "colorbar": {
             "outlinewidth": 0,
             "ticks": ""
            },
            "type": "choropleth"
           }
          ],
          "contour": [
           {
            "colorbar": {
             "outlinewidth": 0,
             "ticks": ""
            },
            "colorscale": [
             [
              0,
              "#0d0887"
             ],
             [
              0.1111111111111111,
              "#46039f"
             ],
             [
              0.2222222222222222,
              "#7201a8"
             ],
             [
              0.3333333333333333,
              "#9c179e"
             ],
             [
              0.4444444444444444,
              "#bd3786"
             ],
             [
              0.5555555555555556,
              "#d8576b"
             ],
             [
              0.6666666666666666,
              "#ed7953"
             ],
             [
              0.7777777777777778,
              "#fb9f3a"
             ],
             [
              0.8888888888888888,
              "#fdca26"
             ],
             [
              1,
              "#f0f921"
             ]
            ],
            "type": "contour"
           }
          ],
          "contourcarpet": [
           {
            "colorbar": {
             "outlinewidth": 0,
             "ticks": ""
            },
            "type": "contourcarpet"
           }
          ],
          "heatmap": [
           {
            "colorbar": {
             "outlinewidth": 0,
             "ticks": ""
            },
            "colorscale": [
             [
              0,
              "#0d0887"
             ],
             [
              0.1111111111111111,
              "#46039f"
             ],
             [
              0.2222222222222222,
              "#7201a8"
             ],
             [
              0.3333333333333333,
              "#9c179e"
             ],
             [
              0.4444444444444444,
              "#bd3786"
             ],
             [
              0.5555555555555556,
              "#d8576b"
             ],
             [
              0.6666666666666666,
              "#ed7953"
             ],
             [
              0.7777777777777778,
              "#fb9f3a"
             ],
             [
              0.8888888888888888,
              "#fdca26"
             ],
             [
              1,
              "#f0f921"
             ]
            ],
            "type": "heatmap"
           }
          ],
          "histogram": [
           {
            "marker": {
             "pattern": {
              "fillmode": "overlay",
              "size": 10,
              "solidity": 0.2
             }
            },
            "type": "histogram"
           }
          ],
          "histogram2d": [
           {
            "colorbar": {
             "outlinewidth": 0,
             "ticks": ""
            },
            "colorscale": [
             [
              0,
              "#0d0887"
             ],
             [
              0.1111111111111111,
              "#46039f"
             ],
             [
              0.2222222222222222,
              "#7201a8"
             ],
             [
              0.3333333333333333,
              "#9c179e"
             ],
             [
              0.4444444444444444,
              "#bd3786"
             ],
             [
              0.5555555555555556,
              "#d8576b"
             ],
             [
              0.6666666666666666,
              "#ed7953"
             ],
             [
              0.7777777777777778,
              "#fb9f3a"
             ],
             [
              0.8888888888888888,
              "#fdca26"
             ],
             [
              1,
              "#f0f921"
             ]
            ],
            "type": "histogram2d"
           }
          ],
          "histogram2dcontour": [
           {
            "colorbar": {
             "outlinewidth": 0,
             "ticks": ""
            },
            "colorscale": [
             [
              0,
              "#0d0887"
             ],
             [
              0.1111111111111111,
              "#46039f"
             ],
             [
              0.2222222222222222,
              "#7201a8"
             ],
             [
              0.3333333333333333,
              "#9c179e"
             ],
             [
              0.4444444444444444,
              "#bd3786"
             ],
             [
              0.5555555555555556,
              "#d8576b"
             ],
             [
              0.6666666666666666,
              "#ed7953"
             ],
             [
              0.7777777777777778,
              "#fb9f3a"
             ],
             [
              0.8888888888888888,
              "#fdca26"
             ],
             [
              1,
              "#f0f921"
             ]
            ],
            "type": "histogram2dcontour"
           }
          ],
          "mesh3d": [
           {
            "colorbar": {
             "outlinewidth": 0,
             "ticks": ""
            },
            "type": "mesh3d"
           }
          ],
          "parcoords": [
           {
            "line": {
             "colorbar": {
              "outlinewidth": 0,
              "ticks": ""
             }
            },
            "type": "parcoords"
           }
          ],
          "pie": [
           {
            "automargin": true,
            "type": "pie"
           }
          ],
          "scatter": [
           {
            "fillpattern": {
             "fillmode": "overlay",
             "size": 10,
             "solidity": 0.2
            },
            "type": "scatter"
           }
          ],
          "scatter3d": [
           {
            "line": {
             "colorbar": {
              "outlinewidth": 0,
              "ticks": ""
             }
            },
            "marker": {
             "colorbar": {
              "outlinewidth": 0,
              "ticks": ""
             }
            },
            "type": "scatter3d"
           }
          ],
          "scattercarpet": [
           {
            "marker": {
             "colorbar": {
              "outlinewidth": 0,
              "ticks": ""
             }
            },
            "type": "scattercarpet"
           }
          ],
          "scattergeo": [
           {
            "marker": {
             "colorbar": {
              "outlinewidth": 0,
              "ticks": ""
             }
            },
            "type": "scattergeo"
           }
          ],
          "scattergl": [
           {
            "marker": {
             "colorbar": {
              "outlinewidth": 0,
              "ticks": ""
             }
            },
            "type": "scattergl"
           }
          ],
          "scattermap": [
           {
            "marker": {
             "colorbar": {
              "outlinewidth": 0,
              "ticks": ""
             }
            },
            "type": "scattermap"
           }
          ],
          "scattermapbox": [
           {
            "marker": {
             "colorbar": {
              "outlinewidth": 0,
              "ticks": ""
             }
            },
            "type": "scattermapbox"
           }
          ],
          "scatterpolar": [
           {
            "marker": {
             "colorbar": {
              "outlinewidth": 0,
              "ticks": ""
             }
            },
            "type": "scatterpolar"
           }
          ],
          "scatterpolargl": [
           {
            "marker": {
             "colorbar": {
              "outlinewidth": 0,
              "ticks": ""
             }
            },
            "type": "scatterpolargl"
           }
          ],
          "scatterternary": [
           {
            "marker": {
             "colorbar": {
              "outlinewidth": 0,
              "ticks": ""
             }
            },
            "type": "scatterternary"
           }
          ],
          "surface": [
           {
            "colorbar": {
             "outlinewidth": 0,
             "ticks": ""
            },
            "colorscale": [
             [
              0,
              "#0d0887"
             ],
             [
              0.1111111111111111,
              "#46039f"
             ],
             [
              0.2222222222222222,
              "#7201a8"
             ],
             [
              0.3333333333333333,
              "#9c179e"
             ],
             [
              0.4444444444444444,
              "#bd3786"
             ],
             [
              0.5555555555555556,
              "#d8576b"
             ],
             [
              0.6666666666666666,
              "#ed7953"
             ],
             [
              0.7777777777777778,
              "#fb9f3a"
             ],
             [
              0.8888888888888888,
              "#fdca26"
             ],
             [
              1,
              "#f0f921"
             ]
            ],
            "type": "surface"
           }
          ],
          "table": [
           {
            "cells": {
             "fill": {
              "color": "#EBF0F8"
             },
             "line": {
              "color": "white"
             }
            },
            "header": {
             "fill": {
              "color": "#C8D4E3"
             },
             "line": {
              "color": "white"
             }
            },
            "type": "table"
           }
          ]
         },
         "layout": {
          "annotationdefaults": {
           "arrowcolor": "#2a3f5f",
           "arrowhead": 0,
           "arrowwidth": 1
          },
          "autotypenumbers": "strict",
          "coloraxis": {
           "colorbar": {
            "outlinewidth": 0,
            "ticks": ""
           }
          },
          "colorscale": {
           "diverging": [
            [
             0,
             "#8e0152"
            ],
            [
             0.1,
             "#c51b7d"
            ],
            [
             0.2,
             "#de77ae"
            ],
            [
             0.3,
             "#f1b6da"
            ],
            [
             0.4,
             "#fde0ef"
            ],
            [
             0.5,
             "#f7f7f7"
            ],
            [
             0.6,
             "#e6f5d0"
            ],
            [
             0.7,
             "#b8e186"
            ],
            [
             0.8,
             "#7fbc41"
            ],
            [
             0.9,
             "#4d9221"
            ],
            [
             1,
             "#276419"
            ]
           ],
           "sequential": [
            [
             0,
             "#0d0887"
            ],
            [
             0.1111111111111111,
             "#46039f"
            ],
            [
             0.2222222222222222,
             "#7201a8"
            ],
            [
             0.3333333333333333,
             "#9c179e"
            ],
            [
             0.4444444444444444,
             "#bd3786"
            ],
            [
             0.5555555555555556,
             "#d8576b"
            ],
            [
             0.6666666666666666,
             "#ed7953"
            ],
            [
             0.7777777777777778,
             "#fb9f3a"
            ],
            [
             0.8888888888888888,
             "#fdca26"
            ],
            [
             1,
             "#f0f921"
            ]
           ],
           "sequentialminus": [
            [
             0,
             "#0d0887"
            ],
            [
             0.1111111111111111,
             "#46039f"
            ],
            [
             0.2222222222222222,
             "#7201a8"
            ],
            [
             0.3333333333333333,
             "#9c179e"
            ],
            [
             0.4444444444444444,
             "#bd3786"
            ],
            [
             0.5555555555555556,
             "#d8576b"
            ],
            [
             0.6666666666666666,
             "#ed7953"
            ],
            [
             0.7777777777777778,
             "#fb9f3a"
            ],
            [
             0.8888888888888888,
             "#fdca26"
            ],
            [
             1,
             "#f0f921"
            ]
           ]
          },
          "colorway": [
           "#636efa",
           "#EF553B",
           "#00cc96",
           "#ab63fa",
           "#FFA15A",
           "#19d3f3",
           "#FF6692",
           "#B6E880",
           "#FF97FF",
           "#FECB52"
          ],
          "font": {
           "color": "#2a3f5f"
          },
          "geo": {
           "bgcolor": "white",
           "lakecolor": "white",
           "landcolor": "white",
           "showlakes": true,
           "showland": true,
           "subunitcolor": "#C8D4E3"
          },
          "hoverlabel": {
           "align": "left"
          },
          "hovermode": "closest",
          "mapbox": {
           "style": "light"
          },
          "paper_bgcolor": "white",
          "plot_bgcolor": "white",
          "polar": {
           "angularaxis": {
            "gridcolor": "#EBF0F8",
            "linecolor": "#EBF0F8",
            "ticks": ""
           },
           "bgcolor": "white",
           "radialaxis": {
            "gridcolor": "#EBF0F8",
            "linecolor": "#EBF0F8",
            "ticks": ""
           }
          },
          "scene": {
           "xaxis": {
            "backgroundcolor": "white",
            "gridcolor": "#DFE8F3",
            "gridwidth": 2,
            "linecolor": "#EBF0F8",
            "showbackground": true,
            "ticks": "",
            "zerolinecolor": "#EBF0F8"
           },
           "yaxis": {
            "backgroundcolor": "white",
            "gridcolor": "#DFE8F3",
            "gridwidth": 2,
            "linecolor": "#EBF0F8",
            "showbackground": true,
            "ticks": "",
            "zerolinecolor": "#EBF0F8"
           },
           "zaxis": {
            "backgroundcolor": "white",
            "gridcolor": "#DFE8F3",
            "gridwidth": 2,
            "linecolor": "#EBF0F8",
            "showbackground": true,
            "ticks": "",
            "zerolinecolor": "#EBF0F8"
           }
          },
          "shapedefaults": {
           "line": {
            "color": "#2a3f5f"
           }
          },
          "ternary": {
           "aaxis": {
            "gridcolor": "#DFE8F3",
            "linecolor": "#A2B1C6",
            "ticks": ""
           },
           "baxis": {
            "gridcolor": "#DFE8F3",
            "linecolor": "#A2B1C6",
            "ticks": ""
           },
           "bgcolor": "white",
           "caxis": {
            "gridcolor": "#DFE8F3",
            "linecolor": "#A2B1C6",
            "ticks": ""
           }
          },
          "title": {
           "x": 0.05
          },
          "xaxis": {
           "automargin": true,
           "gridcolor": "#EBF0F8",
           "linecolor": "#EBF0F8",
           "ticks": "",
           "title": {
            "standoff": 15
           },
           "zerolinecolor": "#EBF0F8",
           "zerolinewidth": 2
          },
          "yaxis": {
           "automargin": true,
           "gridcolor": "#EBF0F8",
           "linecolor": "#EBF0F8",
           "ticks": "",
           "title": {
            "standoff": 15
           },
           "zerolinecolor": "#EBF0F8",
           "zerolinewidth": 2
          }
         }
        },
        "title": {
         "font": {
          "size": 16
         },
         "text": "Rolling 12-Month Dividend Yield Analysis - Top 10 S&P 500 Companies",
         "x": 0.5,
         "xanchor": "center"
        },
        "width": 1200,
        "xaxis": {
         "gridcolor": "lightgray",
         "gridwidth": 1,
         "showgrid": true,
         "title": {
          "text": "Date"
         }
        },
        "yaxis": {
         "gridcolor": "lightgray",
         "gridwidth": 1,
         "showgrid": true,
         "title": {
          "text": "Dividend Yield (%)"
         }
        }
       }
      }
     },
     "metadata": {},
     "output_type": "display_data"
    }
   ],
   "source": [
    "fig.show()"
   ]
  },
  {
   "cell_type": "code",
   "execution_count": null,
   "id": "c3320b03",
   "metadata": {},
   "outputs": [],
   "source": []
  }
 ],
 "metadata": {
  "kernelspec": {
   "display_name": "Python 3",
   "language": "python",
   "name": "python3"
  },
  "language_info": {
   "codemirror_mode": {
    "name": "ipython",
    "version": 3
   },
   "file_extension": ".py",
   "mimetype": "text/x-python",
   "name": "python",
   "nbconvert_exporter": "python",
   "pygments_lexer": "ipython3",
   "version": "3.12.0"
  }
 },
 "nbformat": 4,
 "nbformat_minor": 5
}
