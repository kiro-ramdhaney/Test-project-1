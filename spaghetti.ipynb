{
 "cells": [
  {
   "cell_type": "code",
   "execution_count": 4,
   "metadata": {},
   "outputs": [],
   "source": [
    "import numpy as np"
   ]
  },
  {
   "cell_type": "code",
   "execution_count": 6,
   "metadata": {},
   "outputs": [],
   "source": [
    "Tasklist = []"
   ]
  },
  {
   "cell_type": "code",
   "execution_count": 7,
   "metadata": {},
   "outputs": [],
   "source": [
    "#To do list\n",
    "\n",
    "instruction = input('Would you like to add a new task? (Y/N)')\n",
    "if instruction == 'Y':\n",
    "    i = input('Type task to be added')\n",
    "    Tasklist.append(i)\n",
    "\n",
    "\n",
    "\n"
   ]
  },
  {
   "cell_type": "code",
   "execution_count": 8,
   "metadata": {},
   "outputs": [
    {
     "name": "stdout",
     "output_type": "stream",
     "text": [
      "['Make Breakfst']\n"
     ]
    }
   ],
   "source": [
    "print(Tasklist)"
   ]
  },
  {
   "cell_type": "code",
   "execution_count": 1,
   "metadata": {},
   "outputs": [],
   "source": [
    "import random"
   ]
  },
  {
   "cell_type": "code",
   "execution_count": null,
   "metadata": {},
   "outputs": [
    {
     "name": "stdout",
     "output_type": "stream",
     "text": [
      "Player chose  paper\n",
      "Bot chose  scissor\n",
      "Player Loses!\n"
     ]
    }
   ],
   "source": [
    "\n",
    "def numtohand(ans):\n",
    "    a = ''\n",
    "    if ans == '1':\n",
    "        a = 'rock'\n",
    "    elif ans == '2':\n",
    "        a = 'paper'\n",
    "    elif ans == '3':\n",
    "        a = 'scissor'\n",
    "    return(a)\n",
    "\n",
    "\n",
    "def genhand():\n",
    "    randnum = random.randint(1,3)\n",
    "    b=''\n",
    "    if randnum == 1:\n",
    "        b = 'rock'\n",
    "    elif randnum == 2:\n",
    "        b = 'paper'\n",
    "    elif randnum == 3:\n",
    "        b = 'scissor'\n",
    "    return(b)\n",
    "\n",
    "\n",
    "def logic(player,bot):\n",
    "    outcome = ''\n",
    "    if player == bot:\n",
    "        outcome = 'Its a tie'\n",
    "    elif player=='rock' and bot =='paper':\n",
    "        outcome = 'Player Loses!'\n",
    "    elif player=='rock' and bot =='scissor':\n",
    "        outcome = 'Player Wins!'\n",
    "    elif player=='paper' and bot =='rock':\n",
    "        outcome = 'Player Wins!'\n",
    "    elif player=='paper' and bot =='scissor':\n",
    "            outcome = 'Player Loses!'\n",
    "    elif player=='scissor' and bot =='paper':\n",
    "        outcome = 'Player Wins!'\n",
    "    elif player=='scissor' and bot =='rock':\n",
    "            outcome = 'Player Loses!'\n",
    "    return(outcome)\n",
    "\n",
    "\n",
    "        \n",
    "    \n",
    "\n",
    "\n",
    "\n",
    "ans = '2'\n",
    "player = numtohand(ans)\n",
    "print('Player chose ',player)\n",
    "bot = genhand()\n",
    "print('Bot chose ',bot)\n",
    "print(logic(player,bot))\n",
    "\n"
   ]
  },
  {
   "cell_type": "code",
   "execution_count": null,
   "metadata": {},
   "outputs": [],
   "source": []
  }
 ],
 "metadata": {
  "kernelspec": {
   "display_name": "Python 3",
   "language": "python",
   "name": "python3"
  },
  "language_info": {
   "codemirror_mode": {
    "name": "ipython",
    "version": 3
   },
   "file_extension": ".py",
   "mimetype": "text/x-python",
   "name": "python",
   "nbconvert_exporter": "python",
   "pygments_lexer": "ipython3",
   "version": "3.12.0"
  }
 },
 "nbformat": 4,
 "nbformat_minor": 2
}
